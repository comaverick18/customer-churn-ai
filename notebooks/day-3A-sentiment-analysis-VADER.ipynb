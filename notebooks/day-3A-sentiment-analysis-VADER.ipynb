{
 "cells": [
  {
   "cell_type": "code",
   "execution_count": 27,
   "id": "8eafe165",
   "metadata": {},
   "outputs": [],
   "source": [
    "# Import VADER for Sentiment Analysis\n",
    "from vaderSentiment.vaderSentiment import SentimentIntensityAnalyzer\n",
    "\n",
    "# Create an instance of the analyzer\n",
    "analyzer = SentimentIntensityAnalyzer()"
   ]
  },
  {
   "cell_type": "code",
   "execution_count": 28,
   "id": "c1ef5643",
   "metadata": {},
   "outputs": [
    {
     "name": "stdout",
     "output_type": "stream",
     "text": [
      "Data Loaded Successfully! Sensational!\n"
     ]
    }
   ],
   "source": [
    "import pandas as pd\n",
    "\n",
    "clean_file_path = r\"C:\\Users\\comat\\GitProjects\\customer-churn-ai\\data\\cleaned_telco_churn.csv\"\n",
    "\n",
    "try:\n",
    "    df_clean = pd.read_csv(clean_file_path)\n",
    "    print(\"Data Loaded Successfully! Sensational!\")\n",
    "except FileNotFoundError:\n",
    "    print(f\"Error: File not found at {clean_file_path}. Please check the path and try again.\")\n",
    "except Exception as e:\n",
    "    print(f\"An error occurred: {e}\")"
   ]
  },
  {
   "cell_type": "code",
   "execution_count": 29,
   "id": "66d73bb0",
   "metadata": {},
   "outputs": [
    {
     "name": "stdout",
     "output_type": "stream",
     "text": [
      "VADER sentiment scores added to the DataFrame.\n"
     ]
    }
   ],
   "source": [
    "# Define a function to get the compound score (and other scores if you want)\n",
    "def get_vader_sentiment(text):\n",
    "    # VADER can handle NaNs or non-string types gracefully, but it's good practice\n",
    "    # to ensure we're passing strings or handle potential errors if other types exist.\n",
    "    if isinstance(text, str):\n",
    "        return analyzer.polarity_scores(text)\n",
    "    return {'neg': 0.0, 'neu': 0.0, 'pos': 0.0, 'compound': 0.0} # Default for non-strings/NaN\n",
    "\n",
    "# Apply the function to your CustomerReview column\n",
    "# This will create a new Series where each item is a dictionary of scores\n",
    "sentiment_scores_series = df_clean['CustomerReview'].apply(get_vader_sentiment)\n",
    "\n",
    "# Convert the Series of dictionaries into separate columns in your DataFrame\n",
    "df_sentiment_scores = pd.DataFrame(sentiment_scores_series.tolist())\n",
    "\n",
    "# Rename columns for clarity (optional, but good practice)\n",
    "df_sentiment_scores.rename(columns={\n",
    "    'neg': 'VADER_Negative',\n",
    "    'neu': 'VADER_Neutral',\n",
    "    'pos': 'VADER_Positive',\n",
    "    'compound': 'VADER_Compound'\n",
    "}, inplace=True)\n",
    "\n",
    "# Join these new sentiment score columns with original DF, Assign to a new DF\n",
    "df_sentiment = pd.concat([df_clean, df_sentiment_scores], axis=1)\n",
    "\n",
    "print(\"VADER sentiment scores added to the DataFrame.\")"
   ]
  },
  {
   "cell_type": "code",
   "execution_count": 30,
   "id": "0e922a82",
   "metadata": {},
   "outputs": [
    {
     "data": {
      "text/html": [
       "<div>\n",
       "<style scoped>\n",
       "    .dataframe tbody tr th:only-of-type {\n",
       "        vertical-align: middle;\n",
       "    }\n",
       "\n",
       "    .dataframe tbody tr th {\n",
       "        vertical-align: top;\n",
       "    }\n",
       "\n",
       "    .dataframe thead th {\n",
       "        text-align: right;\n",
       "    }\n",
       "</style>\n",
       "<table border=\"1\" class=\"dataframe\">\n",
       "  <thead>\n",
       "    <tr style=\"text-align: right;\">\n",
       "      <th></th>\n",
       "      <th>Churn</th>\n",
       "      <th>CustomerReview</th>\n",
       "      <th>VADER_Negative</th>\n",
       "      <th>VADER_Neutral</th>\n",
       "      <th>VADER_Positive</th>\n",
       "      <th>VADER_Compound</th>\n",
       "    </tr>\n",
       "  </thead>\n",
       "  <tbody>\n",
       "    <tr>\n",
       "      <th>0</th>\n",
       "      <td>No</td>\n",
       "      <td>Really happy with my plan... no unexpected fee...</td>\n",
       "      <td>0.128</td>\n",
       "      <td>0.640</td>\n",
       "      <td>0.232</td>\n",
       "      <td>0.4201</td>\n",
       "    </tr>\n",
       "    <tr>\n",
       "      <th>1</th>\n",
       "      <td>No</td>\n",
       "      <td>Really happy with my plan... phone support was...</td>\n",
       "      <td>0.000</td>\n",
       "      <td>0.457</td>\n",
       "      <td>0.543</td>\n",
       "      <td>0.8588</td>\n",
       "    </tr>\n",
       "    <tr>\n",
       "      <th>2</th>\n",
       "      <td>Yes</td>\n",
       "      <td>Unfortunately, my service was... frustrated by...</td>\n",
       "      <td>0.453</td>\n",
       "      <td>0.547</td>\n",
       "      <td>0.000</td>\n",
       "      <td>-0.7003</td>\n",
       "    </tr>\n",
       "    <tr>\n",
       "      <th>3</th>\n",
       "      <td>No</td>\n",
       "      <td>Consistently good signal... data plan is a gre...</td>\n",
       "      <td>0.000</td>\n",
       "      <td>0.539</td>\n",
       "      <td>0.461</td>\n",
       "      <td>0.8555</td>\n",
       "    </tr>\n",
       "    <tr>\n",
       "      <th>4</th>\n",
       "      <td>Yes</td>\n",
       "      <td>Not satisfied with the billing... billing erro...</td>\n",
       "      <td>0.372</td>\n",
       "      <td>0.628</td>\n",
       "      <td>0.000</td>\n",
       "      <td>-0.5764</td>\n",
       "    </tr>\n",
       "  </tbody>\n",
       "</table>\n",
       "</div>"
      ],
      "text/plain": [
       "  Churn                                     CustomerReview  VADER_Negative  \\\n",
       "0    No  Really happy with my plan... no unexpected fee...           0.128   \n",
       "1    No  Really happy with my plan... phone support was...           0.000   \n",
       "2   Yes  Unfortunately, my service was... frustrated by...           0.453   \n",
       "3    No  Consistently good signal... data plan is a gre...           0.000   \n",
       "4   Yes  Not satisfied with the billing... billing erro...           0.372   \n",
       "\n",
       "   VADER_Neutral  VADER_Positive  VADER_Compound  \n",
       "0          0.640           0.232          0.4201  \n",
       "1          0.457           0.543          0.8588  \n",
       "2          0.547           0.000         -0.7003  \n",
       "3          0.539           0.461          0.8555  \n",
       "4          0.628           0.000         -0.5764  "
      ]
     },
     "execution_count": 30,
     "metadata": {},
     "output_type": "execute_result"
    }
   ],
   "source": [
    "df_sentiment[['Churn','CustomerReview', 'VADER_Negative', 'VADER_Neutral', 'VADER_Positive', 'VADER_Compound']].head()"
   ]
  },
  {
   "cell_type": "code",
   "execution_count": 31,
   "id": "8327c31d",
   "metadata": {},
   "outputs": [],
   "source": [
    "import numpy as np"
   ]
  },
  {
   "cell_type": "code",
   "execution_count": 32,
   "id": "4bdeae04",
   "metadata": {},
   "outputs": [
    {
     "name": "stdout",
     "output_type": "stream",
     "text": [
      "\n",
      "Sentiment_Labels column created based on VADER_Compound scores and added to the DataFrame.\n"
     ]
    }
   ],
   "source": [
    "# Define the conditions based on the thresholds\n",
    "conditions = [\n",
    "    df_sentiment['VADER_Compound'] >= 0.05,   # Positive\n",
    "    df_sentiment['VADER_Compound'] <= -0.05,  # Negative\n",
    "    (df_sentiment['VADER_Compound'] > -0.05) & (df_sentiment['VADER_Compound'] < 0.05) # Explicitly neutral\n",
    "]\n",
    "\n",
    "# Define the corresponding sentiment labels\n",
    "choices = ['Positive', 'Negative', 'Neutral']\n",
    "\n",
    "# Create the 'Sentiment_Label' column\n",
    "\"\"\"\n",
    "conditions: list of our logical conditions\n",
    "choices: list contains of labels we want to assign for each condition, in the same order\n",
    "NumPy function applies conditions and choices. If none of the conditions are met for a row\n",
    "(which shouldn't happen with these specific conditions if VADER_Compound is a valid number),\n",
    "it would assign the default value.\n",
    "\"\"\"\n",
    "df_sentiment[\"Sentiment_Label\"] = np.select(conditions, choices, default='Neutral')\n",
    "# The default might catch any edge cases or NaNs if VADER_Compound was NaN, though our previous get_vader_sentiment handled NaNs in text.\n",
    "\n",
    "print(\"\\nSentiment_Labels column created based on VADER_Compound scores and added to the DataFrame.\")"
   ]
  },
  {
   "cell_type": "markdown",
   "id": "01870c83",
   "metadata": {},
   "source": [
    "---\n",
    "##### Review the Distribution of Sentiment Labels"
   ]
  },
  {
   "cell_type": "code",
   "execution_count": 33,
   "id": "8e4417e4",
   "metadata": {},
   "outputs": [
    {
     "name": "stdout",
     "output_type": "stream",
     "text": [
      "\n",
      "Distribution of Sentiment Labels:\n",
      "Sentiment_Label\n",
      "Positive    5219\n",
      "Negative    1548\n",
      "Neutral      276\n",
      "Name: count, dtype: int64\n"
     ]
    }
   ],
   "source": [
    "print(\"\\nDistribution of Sentiment Labels:\")\n",
    "print(df_sentiment[\"Sentiment_Label\"].value_counts())"
   ]
  },
  {
   "cell_type": "code",
   "execution_count": 34,
   "id": "7c863a90",
   "metadata": {},
   "outputs": [
    {
     "name": "stdout",
     "output_type": "stream",
     "text": [
      "\n",
      "Distribution of Sentiment as Percentages:\n",
      "Sentiment_Label\n",
      "Positive    0.7410\n",
      "Negative    0.2198\n",
      "Neutral     0.0392\n",
      "Name: proportion, dtype: float64\n"
     ]
    }
   ],
   "source": [
    "print(\"\\nDistribution of Sentiment as Percentages:\")\n",
    "print(df_sentiment[\"Sentiment_Label\"].value_counts(normalize=True).map(lambda x: float(f'{x:.4f}')))"
   ]
  },
  {
   "cell_type": "code",
   "execution_count": 35,
   "id": "0153d8bf",
   "metadata": {},
   "outputs": [
    {
     "name": "stdout",
     "output_type": "stream",
     "text": [
      "\n",
      "DataFrame with Sentiment Labels (first 5 rows):\n"
     ]
    },
    {
     "data": {
      "text/html": [
       "<div>\n",
       "<style scoped>\n",
       "    .dataframe tbody tr th:only-of-type {\n",
       "        vertical-align: middle;\n",
       "    }\n",
       "\n",
       "    .dataframe tbody tr th {\n",
       "        vertical-align: top;\n",
       "    }\n",
       "\n",
       "    .dataframe thead th {\n",
       "        text-align: right;\n",
       "    }\n",
       "</style>\n",
       "<table border=\"1\" class=\"dataframe\">\n",
       "  <thead>\n",
       "    <tr style=\"text-align: right;\">\n",
       "      <th></th>\n",
       "      <th>CustomerReview</th>\n",
       "      <th>VADER_Compound</th>\n",
       "      <th>Sentiment_Label</th>\n",
       "      <th>Churn</th>\n",
       "    </tr>\n",
       "  </thead>\n",
       "  <tbody>\n",
       "    <tr>\n",
       "      <th>0</th>\n",
       "      <td>Really happy with my plan... no unexpected fee...</td>\n",
       "      <td>0.4201</td>\n",
       "      <td>Positive</td>\n",
       "      <td>No</td>\n",
       "    </tr>\n",
       "    <tr>\n",
       "      <th>1</th>\n",
       "      <td>Really happy with my plan... phone support was...</td>\n",
       "      <td>0.8588</td>\n",
       "      <td>Positive</td>\n",
       "      <td>No</td>\n",
       "    </tr>\n",
       "    <tr>\n",
       "      <th>2</th>\n",
       "      <td>Unfortunately, my service was... frustrated by...</td>\n",
       "      <td>-0.7003</td>\n",
       "      <td>Negative</td>\n",
       "      <td>Yes</td>\n",
       "    </tr>\n",
       "    <tr>\n",
       "      <th>3</th>\n",
       "      <td>Consistently good signal... data plan is a gre...</td>\n",
       "      <td>0.8555</td>\n",
       "      <td>Positive</td>\n",
       "      <td>No</td>\n",
       "    </tr>\n",
       "    <tr>\n",
       "      <th>4</th>\n",
       "      <td>Not satisfied with the billing... billing erro...</td>\n",
       "      <td>-0.5764</td>\n",
       "      <td>Negative</td>\n",
       "      <td>Yes</td>\n",
       "    </tr>\n",
       "  </tbody>\n",
       "</table>\n",
       "</div>"
      ],
      "text/plain": [
       "                                      CustomerReview  VADER_Compound  \\\n",
       "0  Really happy with my plan... no unexpected fee...          0.4201   \n",
       "1  Really happy with my plan... phone support was...          0.8588   \n",
       "2  Unfortunately, my service was... frustrated by...         -0.7003   \n",
       "3  Consistently good signal... data plan is a gre...          0.8555   \n",
       "4  Not satisfied with the billing... billing erro...         -0.5764   \n",
       "\n",
       "  Sentiment_Label Churn  \n",
       "0        Positive    No  \n",
       "1        Positive    No  \n",
       "2        Negative   Yes  \n",
       "3        Positive    No  \n",
       "4        Negative   Yes  "
      ]
     },
     "execution_count": 35,
     "metadata": {},
     "output_type": "execute_result"
    }
   ],
   "source": [
    "# Display the first few rows with the new Sentiment_Label column\n",
    "print(\"\\nDataFrame with Sentiment Labels (first 5 rows):\")\n",
    "df_sentiment[['CustomerReview', 'VADER_Compound', 'Sentiment_Label','Churn']].head()"
   ]
  },
  {
   "cell_type": "markdown",
   "id": "b9ea735c",
   "metadata": {},
   "source": [
    "##### Results:\n",
    "* `Positive`: The Majority 74%. Seems common in many review datasets as customers who have a decent or good experience might be prompted to leave a review, or the service generally satisfies most.\n",
    "* `Negative`: Seems small at ~22%. This could mean the service is generally very good for customers, OR it could mean I may need to revise sentiment thresholds.\n",
    "* `Neutral`: Wildly small at ~4%  \n",
    "---\n",
    "* Remember the Reviews were populated by AI, so they are not representative of the actual product or data.\n",
    "* This is for Learning Purposes\n",
    "---"
   ]
  },
  {
   "cell_type": "code",
   "execution_count": null,
   "id": "00422afd",
   "metadata": {},
   "outputs": [
    {
     "data": {
      "image/png": "[encoded data removed]",
      "text/plain": [
       "<Figure size 640x480 with 1 Axes>"
      ]
     },
     "metadata": {},
     "output_type": "display_data"
    }
   ],
   "source": [
    "import seaborn as sns\n",
    "import matplotlib.pyplot as plt \n",
    "ax = sns.barplot(data=df_sentiment, x='Sentiment_Label', y='VADER_Compound', hue='Churn')\n",
    "ax.set_title('Churn Rate by Sentiment Label')\n",
    "plt.show()"
   ]
  },
  {
   "cell_type": "code",
   "execution_count": 61,
   "id": "b31a7776",
   "metadata": {},
   "outputs": [
    {
     "data": {
      "image/png": "[encoded data removed]",
      "text/plain": [
       "<Figure size 1800x600 with 3 Axes>"
      ]
     },
     "metadata": {},
     "output_type": "display_data"
    }
   ],
   "source": [
    "fig, ax = plt.subplots(1, 3, figsize=(18, 6))\n",
    "sns.barplot(data=df_sentiment, x='Sentiment_Label', y='VADER_Positive', hue='Sentiment_Label', ax=ax[0])\n",
    "sns.barplot(data=df_sentiment, x='Sentiment_Label', y='VADER_Neutral', hue='Sentiment_Label',ax=ax[1])\n",
    "sns.barplot(data=df_sentiment, x='Sentiment_Label', y='VADER_Negative', hue='Sentiment_Label',ax=ax[2])\n",
    "ax[0].set_title('Positive')\n",
    "ax[1].set_title('Neutral')\n",
    "ax[2].set_title('Negative')\n",
    "plt.tight_layout()\n",
    "plt.show()"
   ]
  }
 ],
 "metadata": {
  "kernelspec": {
   "display_name": "churn-ai-en2",
   "language": "python",
   "name": "python3"
  },
  "language_info": {
   "codemirror_mode": {
    "name": "ipython",
    "version": 3
   },
   "file_extension": ".py",
   "mimetype": "text/x-python",
   "name": "python",
   "nbconvert_exporter": "python",
   "pygments_lexer": "ipython3",
   "version": "3.10.17"
  }
 },
 "nbformat": 4,
 "nbformat_minor": 5
}
