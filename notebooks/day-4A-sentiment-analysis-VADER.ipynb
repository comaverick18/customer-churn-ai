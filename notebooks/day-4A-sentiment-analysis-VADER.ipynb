{
 "cells": [
  {
   "cell_type": "code",
   "execution_count": 1,
   "id": "8eafe165",
   "metadata": {},
   "outputs": [],
   "source": [
    "# Import VADER for Sentiment Analysis\n",
    "from vaderSentiment.vaderSentiment import SentimentIntensityAnalyzer\n",
    "\n",
    "# Create an instance of the analyzer\n",
    "analyzer = SentimentIntensityAnalyzer()"
   ]
  },
  {
   "cell_type": "code",
   "execution_count": null,
   "id": "c1ef5643",
   "metadata": {},
   "outputs": [
    {
     "name": "stdout",
     "output_type": "stream",
     "text": [
      "Data Loaded Successfully! Sensational!\n"
     ]
    }
   ],
   "source": [
    "import pandas as pd\n",
    "\n",
    "clean_file_path = r\"C:\\Users\\comat\\GitProjects\\customer-churn-ai\\data\\cleaned_telco_churn.csv\"\n",
    "\n",
    "try:\n",
    "    df_clean = pd.read_csv(clean_file_path)\n",
    "    print(\"Data Loaded Successfully! Sensational!\")\n",
    "except FileNotFoundError:\n",
    "    print(f\"Error: File not found at {clean_file_path}. Please check the path and try again.\")\n",
    "except Exception as e:\n",
    "    print(f\"An error occurred: {e}\")"
   ]
  },
  {
   "cell_type": "code",
   "execution_count": null,
   "id": "66d73bb0",
   "metadata": {},
   "outputs": [
    {
     "name": "stdout",
     "output_type": "stream",
     "text": [
      "VADER sentiment scores added to the DataFrame.\n"
     ]
    }
   ],
   "source": [
    "# Define a function to get the compound score (and other scores if you want)\n",
    "def get_vader_sentiment(text):\n",
    "    # VADER can handle NaNs or non-string types gracefully, but it's good practice\n",
    "    # to ensure we're passing strings or handle potential errors if other types exist.\n",
    "    if isinstance(text, str):\n",
    "        return analyzer.polarity_scores(text)\n",
    "    return {'neg': 0.0, 'neu': 0.0, 'pos': 0.0, 'compound': 0.0} # Default for non-strings/NaN\n",
    "\n",
    "# Apply the function to your CustomerReview column\n",
    "# This will create a new Series where each item is a dictionary of scores\n",
    "sentiment_scores_series = df_clean['CustomerReview'].apply(get_vader_sentiment)\n",
    "\n",
    "# Convert the Series of dictionaries into separate columns in your DataFrame\n",
    "df_sentiment_scores = pd.DataFrame(sentiment_scores_series.tolist())\n",
    "\n",
    "# Rename columns for clarity (optional, but good practice)\n",
    "df_sentiment_scores.rename(columns={\n",
    "    'neg': 'VADER_Negative',\n",
    "    'neu': 'VADER_Neutral',\n",
    "    'pos': 'VADER_Positive',\n",
    "    'compound': 'VADER_Compound'\n",
    "}, inplace=True)\n",
    "\n",
    "# Join these new sentiment score columns with original DF, Assign to a new DF\n",
    "df_sentiment = pd.concat([df_clean, df_sentiment_scores], axis=1)\n",
    "\n",
    "print(\"VADER sentiment scores added to the DataFrame.\")"
   ]
  },
  {
   "cell_type": "code",
   "execution_count": 4,
   "id": "0e922a82",
   "metadata": {},
   "outputs": [
    {
     "data": {
      "text/html": [
       "<div>\n",
       "<style scoped>\n",
       "    .dataframe tbody tr th:only-of-type {\n",
       "        vertical-align: middle;\n",
       "    }\n",
       "\n",
       "    .dataframe tbody tr th {\n",
       "        vertical-align: top;\n",
       "    }\n",
       "\n",
       "    .dataframe thead th {\n",
       "        text-align: right;\n",
       "    }\n",
       "</style>\n",
       "<table border=\"1\" class=\"dataframe\">\n",
       "  <thead>\n",
       "    <tr style=\"text-align: right;\">\n",
       "      <th></th>\n",
       "      <th>Churn</th>\n",
       "      <th>CustomerReview</th>\n",
       "      <th>VADER_Negative</th>\n",
       "      <th>VADER_Neutral</th>\n",
       "      <th>VADER_Positive</th>\n",
       "      <th>VADER_Compound</th>\n",
       "    </tr>\n",
       "  </thead>\n",
       "  <tbody>\n",
       "    <tr>\n",
       "      <th>0</th>\n",
       "      <td>No</td>\n",
       "      <td>Really happy with my plan... no unexpected fee...</td>\n",
       "      <td>0.128</td>\n",
       "      <td>0.640</td>\n",
       "      <td>0.232</td>\n",
       "      <td>0.4201</td>\n",
       "    </tr>\n",
       "    <tr>\n",
       "      <th>1</th>\n",
       "      <td>No</td>\n",
       "      <td>Really happy with my plan... phone support was...</td>\n",
       "      <td>0.000</td>\n",
       "      <td>0.457</td>\n",
       "      <td>0.543</td>\n",
       "      <td>0.8588</td>\n",
       "    </tr>\n",
       "    <tr>\n",
       "      <th>2</th>\n",
       "      <td>Yes</td>\n",
       "      <td>Unfortunately, my service was... frustrated by...</td>\n",
       "      <td>0.453</td>\n",
       "      <td>0.547</td>\n",
       "      <td>0.000</td>\n",
       "      <td>-0.7003</td>\n",
       "    </tr>\n",
       "    <tr>\n",
       "      <th>3</th>\n",
       "      <td>No</td>\n",
       "      <td>Consistently good signal... data plan is a gre...</td>\n",
       "      <td>0.000</td>\n",
       "      <td>0.539</td>\n",
       "      <td>0.461</td>\n",
       "      <td>0.8555</td>\n",
       "    </tr>\n",
       "    <tr>\n",
       "      <th>4</th>\n",
       "      <td>Yes</td>\n",
       "      <td>Not satisfied with the billing... billing erro...</td>\n",
       "      <td>0.372</td>\n",
       "      <td>0.628</td>\n",
       "      <td>0.000</td>\n",
       "      <td>-0.5764</td>\n",
       "    </tr>\n",
       "  </tbody>\n",
       "</table>\n",
       "</div>"
      ],
      "text/plain": [
       "  Churn                                     CustomerReview  VADER_Negative  \\\n",
       "0    No  Really happy with my plan... no unexpected fee...           0.128   \n",
       "1    No  Really happy with my plan... phone support was...           0.000   \n",
       "2   Yes  Unfortunately, my service was... frustrated by...           0.453   \n",
       "3    No  Consistently good signal... data plan is a gre...           0.000   \n",
       "4   Yes  Not satisfied with the billing... billing erro...           0.372   \n",
       "\n",
       "   VADER_Neutral  VADER_Positive  VADER_Compound  \n",
       "0          0.640           0.232          0.4201  \n",
       "1          0.457           0.543          0.8588  \n",
       "2          0.547           0.000         -0.7003  \n",
       "3          0.539           0.461          0.8555  \n",
       "4          0.628           0.000         -0.5764  "
      ]
     },
     "execution_count": 4,
     "metadata": {},
     "output_type": "execute_result"
    }
   ],
   "source": [
    "df_sentiment[['Churn','CustomerReview', 'VADER_Negative', 'VADER_Neutral', 'VADER_Positive', 'VADER_Compound']].head()"
   ]
  },
  {
   "cell_type": "code",
   "execution_count": 5,
   "id": "8327c31d",
   "metadata": {},
   "outputs": [],
   "source": [
    "import numpy as np"
   ]
  },
  {
   "cell_type": "code",
   "execution_count": 6,
   "id": "4bdeae04",
   "metadata": {},
   "outputs": [
    {
     "name": "stdout",
     "output_type": "stream",
     "text": [
      "\n",
      "Sentiment_Labels column created based on VADER_Compound scores and added to the DataFrame.\n"
     ]
    }
   ],
   "source": [
    "# Define the conditions based on the thresholds\n",
    "conditions = [\n",
    "    df_sentiment['VADER_Compound'] >= 0.05,   # Positive\n",
    "    df_sentiment['VADER_Compound'] <= -0.05,  # Negative\n",
    "    (df_sentiment['VADER_Compound'] > -0.05) & (df_sentiment['VADER_Compound'] < 0.05) # Explicitly neutral\n",
    "]\n",
    "\n",
    "# Define the corresponding sentiment labels\n",
    "choices = ['Positive', 'Negative', 'Neutral']\n",
    "\n",
    "# Create the 'Sentiment_Label' column\n",
    "\"\"\"\n",
    "conditions: list of our logical conditions\n",
    "choices: list contains of labels we want to assign for each condition, in the same order\n",
    "NumPy function applies conditions and choices. If none of the conditions are met for a row\n",
    "(which shouldn't happen with these specific conditions if VADER_Compound is a valid number),\n",
    "it would assign the default value.\n",
    "\"\"\"\n",
    "df_sentiment[\"Sentiment_Label\"] = np.select(conditions, choices, default='Neutral')\n",
    "# The default might catch any edge cases or NaNs if VADER_Compound was NaN, though our previous get_vader_sentiment handled NaNs in text.\n",
    "\n",
    "print(\"\\nSentiment_Labels column created based on VADER_Compound scores and added to the DataFrame.\")"
   ]
  },
  {
   "cell_type": "markdown",
   "id": "01870c83",
   "metadata": {},
   "source": [
    "---\n",
    "##### Review the Distribution of Sentiment Labels"
   ]
  },
  {
   "cell_type": "code",
   "execution_count": 7,
   "id": "8e4417e4",
   "metadata": {},
   "outputs": [
    {
     "name": "stdout",
     "output_type": "stream",
     "text": [
      "\n",
      "Distribution of Sentiment Labels:\n",
      "Sentiment_Label\n",
      "Positive    5219\n",
      "Negative    1548\n",
      "Neutral      276\n",
      "Name: count, dtype: int64\n"
     ]
    }
   ],
   "source": [
    "print(\"\\nDistribution of Sentiment Labels:\")\n",
    "print(df_sentiment[\"Sentiment_Label\"].value_counts())"
   ]
  },
  {
   "cell_type": "code",
   "execution_count": 8,
   "id": "7c863a90",
   "metadata": {},
   "outputs": [
    {
     "name": "stdout",
     "output_type": "stream",
     "text": [
      "\n",
      "Distribution of Sentiment as Percentages:\n",
      "Sentiment_Label\n",
      "Positive    0.7410\n",
      "Negative    0.2198\n",
      "Neutral     0.0392\n",
      "Name: proportion, dtype: float64\n"
     ]
    }
   ],
   "source": [
    "print(\"\\nDistribution of Sentiment as Percentages:\")\n",
    "print(df_sentiment[\"Sentiment_Label\"].value_counts(normalize=True).map(lambda x: float(f'{x:.4f}')))"
   ]
  },
  {
   "cell_type": "code",
   "execution_count": 9,
   "id": "0153d8bf",
   "metadata": {},
   "outputs": [
    {
     "name": "stdout",
     "output_type": "stream",
     "text": [
      "\n",
      "DataFrame with Sentiment Labels (first 5 rows):\n"
     ]
    },
    {
     "data": {
      "text/html": [
       "<div>\n",
       "<style scoped>\n",
       "    .dataframe tbody tr th:only-of-type {\n",
       "        vertical-align: middle;\n",
       "    }\n",
       "\n",
       "    .dataframe tbody tr th {\n",
       "        vertical-align: top;\n",
       "    }\n",
       "\n",
       "    .dataframe thead th {\n",
       "        text-align: right;\n",
       "    }\n",
       "</style>\n",
       "<table border=\"1\" class=\"dataframe\">\n",
       "  <thead>\n",
       "    <tr style=\"text-align: right;\">\n",
       "      <th></th>\n",
       "      <th>CustomerReview</th>\n",
       "      <th>VADER_Compound</th>\n",
       "      <th>Sentiment_Label</th>\n",
       "      <th>Churn</th>\n",
       "    </tr>\n",
       "  </thead>\n",
       "  <tbody>\n",
       "    <tr>\n",
       "      <th>0</th>\n",
       "      <td>Really happy with my plan... no unexpected fee...</td>\n",
       "      <td>0.4201</td>\n",
       "      <td>Positive</td>\n",
       "      <td>No</td>\n",
       "    </tr>\n",
       "    <tr>\n",
       "      <th>1</th>\n",
       "      <td>Really happy with my plan... phone support was...</td>\n",
       "      <td>0.8588</td>\n",
       "      <td>Positive</td>\n",
       "      <td>No</td>\n",
       "    </tr>\n",
       "    <tr>\n",
       "      <th>2</th>\n",
       "      <td>Unfortunately, my service was... frustrated by...</td>\n",
       "      <td>-0.7003</td>\n",
       "      <td>Negative</td>\n",
       "      <td>Yes</td>\n",
       "    </tr>\n",
       "    <tr>\n",
       "      <th>3</th>\n",
       "      <td>Consistently good signal... data plan is a gre...</td>\n",
       "      <td>0.8555</td>\n",
       "      <td>Positive</td>\n",
       "      <td>No</td>\n",
       "    </tr>\n",
       "    <tr>\n",
       "      <th>4</th>\n",
       "      <td>Not satisfied with the billing... billing erro...</td>\n",
       "      <td>-0.5764</td>\n",
       "      <td>Negative</td>\n",
       "      <td>Yes</td>\n",
       "    </tr>\n",
       "  </tbody>\n",
       "</table>\n",
       "</div>"
      ],
      "text/plain": [
       "                                      CustomerReview  VADER_Compound  \\\n",
       "0  Really happy with my plan... no unexpected fee...          0.4201   \n",
       "1  Really happy with my plan... phone support was...          0.8588   \n",
       "2  Unfortunately, my service was... frustrated by...         -0.7003   \n",
       "3  Consistently good signal... data plan is a gre...          0.8555   \n",
       "4  Not satisfied with the billing... billing erro...         -0.5764   \n",
       "\n",
       "  Sentiment_Label Churn  \n",
       "0        Positive    No  \n",
       "1        Positive    No  \n",
       "2        Negative   Yes  \n",
       "3        Positive    No  \n",
       "4        Negative   Yes  "
      ]
     },
     "execution_count": 9,
     "metadata": {},
     "output_type": "execute_result"
    }
   ],
   "source": [
    "# Display the first few rows with the new Sentiment_Label column\n",
    "print(\"\\nDataFrame with Sentiment Labels (first 5 rows):\")\n",
    "df_sentiment[['CustomerReview', 'VADER_Compound', 'Sentiment_Label','Churn']].head()"
   ]
  },
  {
   "cell_type": "markdown",
   "id": "b9ea735c",
   "metadata": {},
   "source": [
    "##### Results:\n",
    "* `Positive`: The Majority 74%. Seems common in many review datasets as customers who have a decent or good experience might be prompted to leave a review, or the service generally satisfies most.\n",
    "* `Negative`: Seems small at ~22%. This could mean the service is generally very good for customers, OR it could mean I may need to revise sentiment thresholds.\n",
    "* `Neutral`: Wildly small at ~4%  \n",
    "---\n",
    "* Remember the Reviews were populated by AI, so they are not representative of the actual product or data.\n",
    "* This is for Learning Purposes\n",
    "---"
   ]
  },
  {
   "cell_type": "code",
   "execution_count": 10,
   "id": "00422afd",
   "metadata": {},
   "outputs": [
    {
     "data": {
      "image/png": "[encoded data removed]",
      "text/plain": [
       "<Figure size 640x480 with 1 Axes>"
      ]
     },
     "metadata": {},
     "output_type": "display_data"
    }
   ],
   "source": [
    "import seaborn as sns\n",
    "import matplotlib.pyplot as plt \n",
    "ax = sns.barplot(data=df_sentiment, x='Sentiment_Label', y='VADER_Compound', hue='Churn')\n",
    "ax.set_title('Churn Rate by Sentiment Label')\n",
    "plt.show()"
   ]
  },
  {
   "cell_type": "code",
   "execution_count": 11,
   "id": "b31a7776",
   "metadata": {},
   "outputs": [
    {
     "data": {
      "image/png": "[encoded data removed]",
      "text/plain": [
       "<Figure size 1800x600 with 3 Axes>"
      ]
     },
     "metadata": {},
     "output_type": "display_data"
    }
   ],
   "source": [
    "fig, ax = plt.subplots(1, 3, figsize=(18, 6))\n",
    "sns.barplot(data=df_sentiment, x='Sentiment_Label', y='VADER_Positive', hue='Sentiment_Label', ax=ax[0])\n",
    "sns.barplot(data=df_sentiment, x='Sentiment_Label', y='VADER_Neutral', hue='Sentiment_Label',ax=ax[1])\n",
    "sns.barplot(data=df_sentiment, x='Sentiment_Label', y='VADER_Negative', hue='Sentiment_Label',ax=ax[2])\n",
    "ax[0].set_title('Positive')\n",
    "ax[1].set_title('Neutral')\n",
    "ax[2].set_title('Negative')\n",
    "plt.tight_layout()\n",
    "plt.show()"
   ]
  },
  {
   "cell_type": "markdown",
   "id": "04f5be5a",
   "metadata": {},
   "source": [
    "---\n",
    "### Hugging Face Transformer - Sentiment Analysis"
   ]
  },
  {
   "cell_type": "code",
   "execution_count": 12,
   "id": "cd778aa8",
   "metadata": {},
   "outputs": [
    {
     "name": "stderr",
     "output_type": "stream",
     "text": [
      "Some weights of the model checkpoint at cardiffnlp/twitter-roberta-base-sentiment-latest were not used when initializing RobertaForSequenceClassification: ['roberta.pooler.dense.bias', 'roberta.pooler.dense.weight']\n",
      "- This IS expected if you are initializing RobertaForSequenceClassification from the checkpoint of a model trained on another task or with another architecture (e.g. initializing a BertForSequenceClassification model from a BertForPreTraining model).\n",
      "- This IS NOT expected if you are initializing RobertaForSequenceClassification from the checkpoint of a model that you expect to be exactly identical (initializing a BertForSequenceClassification model from a BertForSequenceClassification model).\n",
      "Device set to use cpu\n"
     ]
    },
    {
     "name": "stdout",
     "output_type": "stream",
     "text": [
      "Hugging Face sentiment analysis pipeline initialized successfully!\n"
     ]
    }
   ],
   "source": [
    "from transformers import pipeline\n",
    "# Initialize the sentiment analysis pipeline with our chosen model\n",
    "# This will download the model if you haven't used it before (can take a few minutes and some disk space)\n",
    "sentiment_pipeline = pipeline(\n",
    "    \"sentiment-analysis\",\n",
    "    model=\"cardiffnlp/twitter-roberta-base-sentiment-latest\"\n",
    ")\n",
    "\n",
    "print(\"Hugging Face sentiment analysis pipeline initialized successfully!\")"
   ]
  },
  {
   "cell_type": "code",
   "execution_count": 13,
   "id": "e1d22fe1",
   "metadata": {},
   "outputs": [
    {
     "name": "stdout",
     "output_type": "stream",
     "text": [
      "Preparing review texts...\n",
      "Starting sentiment prediction for 7043 reviews... (This may take a few minutes)\n",
      "\n",
      "Processed 7043 reviews with Hugging Face model.\n"
     ]
    }
   ],
   "source": [
    "print(\"Preparing review texts...\")\n",
    "# Convert the CustomerReview column to a list, replacing NaN with empty strings\n",
    "# as the pipeline expects string inputs.\n",
    "review_texts = df_sentiment['CustomerReview'].fillna('').tolist()\n",
    "\n",
    "print(f\"Starting sentiment prediction for {len(review_texts)} reviews... (This may take a few minutes)\")\n",
    "# Get predictions for all texts\n",
    "# This might take some time depending on the number of reviews and your hardware\n",
    "hf_predictions = sentiment_pipeline(review_texts)\n",
    "\n",
    "print(f\"\\nProcessed {len(hf_predictions)} reviews with Hugging Face model.\")\n"
   ]
  },
  {
   "cell_type": "code",
   "execution_count": 14,
   "id": "db5ce263",
   "metadata": {},
   "outputs": [
    {
     "name": "stdout",
     "output_type": "stream",
     "text": [
      "\n",
      "Sample Hugging Face predictions (first 3):\n",
      "Review snippet: Really happy with my plan... no unexpected fees. Made the right choice here....\n",
      "Prediction: {'label': 'positive', 'score': 0.9732906222343445}\n",
      "Review snippet: Really happy with my plan... phone support was helpful and polite....\n",
      "Prediction: {'label': 'positive', 'score': 0.9825600981712341}\n",
      "Review snippet: Unfortunately, my service was... frustrated by the slow data....\n",
      "Prediction: {'label': 'negative', 'score': 0.9061986207962036}\n"
     ]
    }
   ],
   "source": [
    "# You can inspect the first few predictions to see their structure if you like:\n",
    "print(\"\\nSample Hugging Face predictions (first 3):\")\n",
    "for i in range(min(3, len(hf_predictions))):\n",
    "    print(f\"Review snippet: {review_texts[i][:100]}...\")\n",
    "    print(f\"Prediction: {hf_predictions[i]}\")"
   ]
  },
  {
   "cell_type": "code",
   "execution_count": 15,
   "id": "d33255fa",
   "metadata": {},
   "outputs": [
    {
     "name": "stdout",
     "output_type": "stream",
     "text": [
      "\n",
      "Processing predictions and adding to DataFrame...\n",
      "Hugging Face sentiment labels and scores added to DataFrame.\n"
     ]
    }
   ],
   "source": [
    "print(\"\\nProcessing predictions and adding to DataFrame...\")\n",
    "# Extract labels and scores\n",
    "hf_labels_raw = [pred['label'] for pred in hf_predictions]\n",
    "hf_scores = [pred['score'] for pred in hf_predictions]\n",
    "\n",
    "# Define the mapping from the model's output labels to our desired text labels\n",
    "# For cardiffnlp/twitter-roberta-base-sentiment-latest:\n",
    "# 0 -> Negative (LABEL_0)\n",
    "# 1 -> Neutral  (LABEL_1)\n",
    "# 2 -> Positive (LABEL_2)\n",
    "label_mapping = {\n",
    "    \"negative\": \"Negative\",\n",
    "    \"neutral\": \"Neutral\",\n",
    "    \"positive\": \"Positive\"\n",
    "}\n",
    "\n",
    "# Map the raw labels to text labels\n",
    "hf_sentiment_labels = [label_mapping.get(label, \"Unknown\") for label in hf_labels_raw] # Added \"Unknown\" for safety\n",
    "\n",
    "# Add as new columns to your DataFrame\n",
    "df_sentiment['HF_Sentiment_Label'] = hf_sentiment_labels\n",
    "df_sentiment['HF_Sentiment_Score'] = hf_scores\n",
    "\n",
    "print(\"Hugging Face sentiment labels and scores added to DataFrame.\")"
   ]
  },
  {
   "cell_type": "code",
   "execution_count": null,
   "id": "24eedbb0",
   "metadata": {},
   "outputs": [
    {
     "name": "stdout",
     "output_type": "stream",
     "text": [
      "\n",
      "DataFrame with Hugging Face Sentiment (first 5 rows):\n",
      "                                      CustomerReview HF_Sentiment_Label  \\\n",
      "0  Really happy with my plan... no unexpected fee...           Positive   \n",
      "1  Really happy with my plan... phone support was...           Positive   \n",
      "2  Unfortunately, my service was... frustrated by...           Negative   \n",
      "3  Consistently good signal... data plan is a gre...           Positive   \n",
      "4  Not satisfied with the billing... billing erro...           Negative   \n",
      "\n",
      "   HF_Sentiment_Score  VADER_Compound Sentiment_Label  \n",
      "0            0.973291          0.4201        Positive  \n",
      "1            0.982560          0.8588        Positive  \n",
      "2            0.906199         -0.7003        Negative  \n",
      "3            0.960772          0.8555        Positive  \n",
      "4            0.930403         -0.5764        Negative  \n",
      "\n",
      "Distribution of Hugging Face Sentiment Labels:\n",
      "HF_Sentiment_Label\n",
      "Positive    5177\n",
      "Negative    1818\n",
      "Neutral       48\n",
      "Name: count, dtype: int64\n",
      "\n",
      "Distribution of Hugging Face Sentiment as Percentages:\n",
      "HF_Sentiment_Label\n",
      "Positive    73.506\n",
      "Negative    25.813\n",
      "Neutral      0.682\n",
      "Name: proportion, dtype: float64\n"
     ]
    }
   ],
   "source": [
    "print(\"\\nDataFrame with Hugging Face Sentiment (first 5 rows):\")\n",
    "print(df_sentiment[['CustomerReview', 'HF_Sentiment_Label', 'HF_Sentiment_Score', 'VADER_Compound', 'Sentiment_Label']].head()) # Comparing with VADER\n",
    "\n",
    "# Display the counts of each new sentiment label\n",
    "print(\"\\nDistribution of Hugging Face Sentiment Labels:\")\n",
    "print(df_sentiment['HF_Sentiment_Label'].value_counts())\n",
    "\n",
    "# Display the percentage distribution (capped at 3 decimals)\n",
    "print(\"\\nDistribution of Hugging Face Sentiment as Percentages:\")\n",
    "hf_percentages = df_sentiment[\"HF_Sentiment_Label\"].value_counts(normalize=True) * 100\n",
    "print(hf_percentages.round(3))  # Using your preferred 4-decimal formatting: print(hf_percentages.map(lambda x: float(f'{x:.4f}')))\n",
    "# Or for 3 decimal places: # print(hf_percentages.round(3))"
   ]
  },
  {
   "cell_type": "markdown",
   "id": "eb656bcd",
   "metadata": {},
   "source": [
    "##### COMPARISON:\n",
    "**Key Differences:**\n",
    "* Hugging Face classified far fewer reviews as \"Neutral\" (only 48 compared to VADER's 276).\n",
    "* Hugging Face model classified more reviews as \"Negative\" (1818 compared to VADER's 1548).\n",
    "* Number of \"Positive\" reviews is fairly similar, with VADER being slightly higher.  \n",
    "\n",
    "**Potential Reasons**\n",
    "* The \"Disappearing Neutrals\":\n",
    "    * Biggest difference is the reduction in neutral reviews with the Hugging Face model. Suggests many of the reviews VADER considered neutral had enough subtle cues (positive or negative) for the more context-aware RoBERTa model to assign them a more definitive sentiment classification.\n",
    "    * The cardiffnlp model is trained to output one of three labels (Negative, Neutral, Positive). Its architecture is designed to make a choice among these. VADER's compound score is continuous, and we chose thresholds to define neutral; a different threshold choice for VADER would also change its neutral count.\n",
    "\n",
    "* Increase in \"Negative\" for Hugging Face Model:\n",
    "    * It seems that a good portion of what VADER saw as \"Neutral\" (and perhaps a few from VADER's \"Positive\") are now being classified as \"Negative\" by the RoBERTa model.\n",
    "    * This could be because RoBERTa, with its deeper understanding of language context and semantics (learned from ~124M tweets), is better at picking up subtle dissatisfaction, sarcasm, or implied negativity that VADER's lexicon-based approach might miss or downplay.\n",
    "\n",
    "**Impact / Relevance on Churn Analysis:**\n",
    "* A model that identifies more \"Negative\" reviews (if those negative sentiments are genuine reflections of dissatisfaction) might provide a stronger signal for your churn prediction model. If customers who the RoBERTa model flags as \"Negative\" (but VADER might have called \"Neutral\") are indeed more likely to churn, then this more sensitive model could be more valuable.\n",
    "\n",
    "**Insights:**\n",
    "* Could probably tune VADER to get similar results to the RoBERTa model, but that's too much work. Go with RoBERTa."
   ]
  },
  {
   "cell_type": "markdown",
   "id": "17b93089",
   "metadata": {},
   "source": [
    "**Additional Practice:**\n",
    "* Look at some examples:\n",
    "    * Reviews that VADER called \"Neutral\" but the Hugging Face model called \"Negative.\"  \n",
    "    \n",
    "    * Reviews that VADER called \"Neutral\" but the Hugging Face model called \"Positive.\" This can help you understand why the models differ and which one seems more aligned with human interpretation for your specific data.\n"
   ]
  }
 ],
 "metadata": {
  "kernelspec": {
   "display_name": "churn-ai-en2",
   "language": "python",
   "name": "python3"
  },
  "language_info": {
   "codemirror_mode": {
    "name": "ipython",
    "version": 3
   },
   "file_extension": ".py",
   "mimetype": "text/x-python",
   "name": "python",
   "nbconvert_exporter": "python",
   "pygments_lexer": "ipython3",
   "version": "3.10.17"
  }
 },
 "nbformat": 4,
 "nbformat_minor": 5
}
