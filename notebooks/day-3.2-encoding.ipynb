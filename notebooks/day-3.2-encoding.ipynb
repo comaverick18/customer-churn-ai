{
 "cells": [
  {
   "cell_type": "code",
   "execution_count": 2,
   "id": "e0b18bb3",
   "metadata": {},
   "outputs": [],
   "source": [
    "import pandas as pd"
   ]
  },
  {
   "cell_type": "code",
   "execution_count": 3,
   "id": "d30d1cb4",
   "metadata": {},
   "outputs": [
    {
     "name": "stdout",
     "output_type": "stream",
     "text": [
      "Data Loaded Successfully! Sensational!\n"
     ]
    }
   ],
   "source": [
    "clean_file_path = r\"C:\\Users\\comat\\GitProjects\\customer-churn-ai\\data\\cleaned_telco_churn.csv\"\n",
    "\n",
    "try:\n",
    "    df = pd.read_csv(clean_file_path)\n",
    "    print(\"Data Loaded Successfully! Sensational!\")\n",
    "except FileNotFoundError:\n",
    "    print(f\"Error: File not found at {clean_file_path}. Please check the path and try again.\")\n",
    "except Exception as e:\n",
    "    print(f\"An error occurred: {e}\")"
   ]
  },
  {
   "cell_type": "markdown",
   "id": "20178485",
   "metadata": {},
   "source": [
    "***Step 1:*** Identify Categorical Features  \n",
    "-We have already explored variables like: Contract, PaymentMethod, InternetService, OnlineSecurity, TechSupport, etc.  \n",
    "-Now you can get the categorical columns automatically"
   ]
  },
  {
   "cell_type": "code",
   "execution_count": 4,
   "id": "bc8a4225",
   "metadata": {},
   "outputs": [
    {
     "name": "stdout",
     "output_type": "stream",
     "text": [
      "['customerID', 'gender', 'Partner', 'Dependents', 'PhoneService', 'MultipleLines', 'InternetService', 'OnlineSecurity', 'OnlineBackup', 'DeviceProtection', 'TechSupport', 'StreamingTV', 'StreamingMovies', 'Contract', 'PaperlessBilling', 'PaymentMethod', 'Churn']\n"
     ]
    }
   ],
   "source": [
    "# Get all categorical columns automatically:\n",
    "\n",
    "cat_cols = df.select_dtypes(include=['object']).columns.tolist()\n",
    "print(cat_cols)\n",
    "# This will include customerID, which we’ll drop.\n"
   ]
  },
  {
   "cell_type": "markdown",
   "id": "e0c4a9da",
   "metadata": {},
   "source": [
    "***Step 2:*** Drop Non-Informative Columns"
   ]
  },
  {
   "cell_type": "code",
   "execution_count": 5,
   "id": "0ec711a3",
   "metadata": {},
   "outputs": [],
   "source": [
    "df = df.drop('customerID', axis=1)"
   ]
  },
  {
   "cell_type": "markdown",
   "id": "004df96f",
   "metadata": {},
   "source": [
    "***Step 3:*** Clean Yes/No Binary Columns  \n",
    "Let’s convert Yes/No columns to binary 1/0:"
   ]
  },
  {
   "cell_type": "code",
   "execution_count": 7,
   "id": "1ccfe250",
   "metadata": {},
   "outputs": [],
   "source": [
    "\n",
    "# Define yes/no columns\n",
    "binary_cols = ['Partner', 'Dependents', 'PhoneService', 'PaperlessBilling', \n",
    "               'Churn', 'OnlineSecurity', 'OnlineBackup', 'DeviceProtection',\n",
    "               'TechSupport', 'StreamingTV', 'StreamingMovies']\n",
    "\n",
    "# Replace 'Yes' with 1 and 'No' with 0\n",
    "df[binary_cols] = df[binary_cols].replace({'Yes': 1, 'No': 0}).infer_objects(copy=False)\n",
    "# Some columns might have \"No internet service\" — we’ll clean that next.\n"
   ]
  },
  {
   "cell_type": "markdown",
   "id": "1d7b5583",
   "metadata": {},
   "source": [
    "***Step 4:*** Replace \"No internet service\" or \"No phone service\"  \n",
    "These are equivalent to \"No\", so we’ll convert them:"
   ]
  },
  {
   "cell_type": "code",
   "execution_count": 8,
   "id": "26a4929e",
   "metadata": {},
   "outputs": [],
   "source": [
    "cols_to_clean = ['OnlineSecurity', 'OnlineBackup', 'DeviceProtection', \n",
    "                 'TechSupport', 'StreamingTV', 'StreamingMovies']\n",
    "\n",
    "for col in cols_to_clean:\n",
    "    df[col] = df[col].replace({'No internet service': 0})"
   ]
  },
  {
   "cell_type": "markdown",
   "id": "31a859a0",
   "metadata": {},
   "source": [
    "Similarly for MultipleLines:"
   ]
  },
  {
   "cell_type": "code",
   "execution_count": 9,
   "id": "9e0334da",
   "metadata": {},
   "outputs": [],
   "source": [
    "df['MultipleLines'] = df['MultipleLines'].replace({'No phone service': 'No'})"
   ]
  },
  {
   "cell_type": "markdown",
   "id": "79181796",
   "metadata": {},
   "source": [
    "***Step 5:*** One-Hot Encode Remaining Categoricals  \n",
    "Use pd.get_dummies() on remaining object columns:"
   ]
  },
  {
   "cell_type": "code",
   "execution_count": null,
   "id": "f5674639",
   "metadata": {},
   "outputs": [],
   "source": [
    "df = pd.get_dummies(df, drop_first=True)\n",
    "# \"drop_first=True\": When encoding categorical features with 'get_dummies', this argument prevents the creation of redundant columns.\n",
    "# For a categorical column with 'n' unique values, 'get_dummies' would typically create 'n' binary columns. However, these columns are often\n",
    "# correlated. For instance, if a column has two values (e.g., 'Yes' and 'No'), knowing the value of one column directly implies the value of the other.\n",
    "# 'drop_first=True' drops the first category's column, thus reducing the number of created columns by one. This avoids multicollinearity,\n",
    "# a situation where independent variables in a model are highly correlated, which can negatively impact model training and interpretation.\n",
    "# By dropping the first category, we still retain all the necessary information, as the presence or absence of the remaining categories implicitly indicates the value of the dropped category."
   ]
  },
  {
   "cell_type": "markdown",
   "id": "e7641c17",
   "metadata": {},
   "source": [
    "Let’s now inspect:"
   ]
  },
  {
   "cell_type": "code",
   "execution_count": null,
   "id": "de6cd169",
   "metadata": {},
   "outputs": [
    {
     "name": "stdout",
     "output_type": "stream",
     "text": [
      "<class 'pandas.core.frame.DataFrame'>\n",
      "RangeIndex: 7043 entries, 0 to 7042\n",
      "Data columns (total 24 columns):\n",
      " #   Column                                 Non-Null Count  Dtype  \n",
      "---  ------                                 --------------  -----  \n",
      " 0   SeniorCitizen                          7043 non-null   int64  \n",
      " 1   Partner                                7043 non-null   int64  \n",
      " 2   Dependents                             7043 non-null   int64  \n",
      " 3   tenure                                 7043 non-null   int64  \n",
      " 4   PhoneService                           7043 non-null   int64  \n",
      " 5   OnlineSecurity                         7043 non-null   int64  \n",
      " 6   OnlineBackup                           7043 non-null   int64  \n",
      " 7   DeviceProtection                       7043 non-null   int64  \n",
      " 8   TechSupport                            7043 non-null   int64  \n",
      " 9   StreamingTV                            7043 non-null   int64  \n",
      " 10  StreamingMovies                        7043 non-null   int64  \n",
      " 11  PaperlessBilling                       7043 non-null   int64  \n",
      " 12  MonthlyCharges                         7043 non-null   float64\n",
      " 13  TotalCharges                           7043 non-null   float64\n",
      " 14  Churn                                  7043 non-null   int64  \n",
      " 15  gender_Male                            7043 non-null   bool   \n",
      " 16  MultipleLines_Yes                      7043 non-null   bool   \n",
      " 17  InternetService_Fiber optic            7043 non-null   bool   \n",
      " 18  InternetService_No                     7043 non-null   bool   \n",
      " 19  Contract_One year                      7043 non-null   bool   \n",
      " 20  Contract_Two year                      7043 non-null   bool   \n",
      " 21  PaymentMethod_Credit card (automatic)  7043 non-null   bool   \n",
      " 22  PaymentMethod_Electronic check         7043 non-null   bool   \n",
      " 23  PaymentMethod_Mailed check             7043 non-null   bool   \n",
      "dtypes: bool(9), float64(2), int64(13)\n",
      "memory usage: 887.4 KB\n",
      "None\n"
     ]
    }
   ],
   "source": [
    "print(df.info())"
   ]
  },
  {
   "cell_type": "code",
   "execution_count": 15,
   "id": "c8dec98c",
   "metadata": {},
   "outputs": [
    {
     "name": "stdout",
     "output_type": "stream",
     "text": [
      "   SeniorCitizen  Partner  Dependents  tenure  PhoneService  OnlineSecurity  \\\n",
      "0              0        1           0       1             0               0   \n",
      "1              0        0           0      34             1               1   \n",
      "2              0        0           0       2             1               1   \n",
      "3              0        0           0      45             0               1   \n",
      "4              0        0           0       2             1               0   \n",
      "\n",
      "   OnlineBackup  DeviceProtection  TechSupport  StreamingTV  ...  Churn  \\\n",
      "0             1                 0            0            0  ...      0   \n",
      "1             0                 1            0            0  ...      0   \n",
      "2             1                 0            0            0  ...      1   \n",
      "3             0                 1            1            0  ...      0   \n",
      "4             0                 0            0            0  ...      1   \n",
      "\n",
      "   gender_Male  MultipleLines_Yes  InternetService_Fiber optic  \\\n",
      "0        False              False                        False   \n",
      "1         True              False                        False   \n",
      "2         True              False                        False   \n",
      "3         True              False                        False   \n",
      "4        False              False                         True   \n",
      "\n",
      "   InternetService_No  Contract_One year  Contract_Two year  \\\n",
      "0               False              False              False   \n",
      "1               False               True              False   \n",
      "2               False              False              False   \n",
      "3               False               True              False   \n",
      "4               False              False              False   \n",
      "\n",
      "   PaymentMethod_Credit card (automatic)  PaymentMethod_Electronic check  \\\n",
      "0                                  False                            True   \n",
      "1                                  False                           False   \n",
      "2                                  False                           False   \n",
      "3                                  False                           False   \n",
      "4                                  False                            True   \n",
      "\n",
      "   PaymentMethod_Mailed check  \n",
      "0                       False  \n",
      "1                        True  \n",
      "2                        True  \n",
      "3                       False  \n",
      "4                       False  \n",
      "\n",
      "[5 rows x 24 columns]\n"
     ]
    }
   ],
   "source": [
    "print(df.head())"
   ]
  }
 ],
 "metadata": {
  "kernelspec": {
   "display_name": "churn-ai-en2",
   "language": "python",
   "name": "python3"
  },
  "language_info": {
   "codemirror_mode": {
    "name": "ipython",
    "version": 3
   },
   "file_extension": ".py",
   "mimetype": "text/x-python",
   "name": "python",
   "nbconvert_exporter": "python",
   "pygments_lexer": "ipython3",
   "version": "3.10.17"
  }
 },
 "nbformat": 4,
 "nbformat_minor": 5
}
