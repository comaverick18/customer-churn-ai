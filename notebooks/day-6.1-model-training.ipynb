{
 "cells": [
  {
   "cell_type": "markdown",
   "id": "59ab8a75",
   "metadata": {},
   "source": [
    "#### Train Logistic Regression Model"
   ]
  },
  {
   "cell_type": "code",
   "execution_count": null,
   "id": "aa9b7a43",
   "metadata": {},
   "outputs": [],
   "source": []
  },
  {
   "cell_type": "code",
   "execution_count": null,
   "id": "a759e404",
   "metadata": {},
   "outputs": [],
   "source": [
    "# import packages for trainin\n",
    "from sklearn.linear_model import LogisticRegression\n",
    "from sklearn.metrics import accuracy_score # Use later for evaluation"
   ]
  },
  {
   "cell_type": "code",
   "execution_count": null,
   "id": "d0d6ae40",
   "metadata": {},
   "outputs": [],
   "source": []
  },
  {
   "cell_type": "code",
   "execution_count": null,
   "id": "e2648780",
   "metadata": {},
   "outputs": [],
   "source": [
    "# 1. Initialize the Logistic Regression model\n",
    "# Begin with mostly default parameters.\n",
    "# `liblinear` solver is used for binary classification and small datasets.\n",
    "# `random_state` is for reproducibility. of results if solver involves randomness.\n",
    "log_reg_model = LogisticRegression(solver='liblinear', random_state=42, max_iter=1000)\n",
    "print(\"Logistic Regression model initialized with solver='liblinear' and max_iter=1000.\")"
   ]
  },
  {
   "cell_type": "code",
   "execution_count": null,
   "id": "5faca6af",
   "metadata": {},
   "outputs": [],
   "source": [
    "# 2. Fit/Train the model using the training data.\n",
    "print(\"Training the Logistic Regression model...\")\n",
    "log_reg_model.fit(X_train, y_train)\n",
    "print(\"Logistic Regression model trained successfully!\")"
   ]
  },
  {
   "cell_type": "code",
   "execution_count": null,
   "id": "9a3e47e2",
   "metadata": {},
   "outputs": [],
   "source": [
    "# (Optional) Quick check on training accuracy - NOT a substitute for test set evaluation!\n",
    "# This just tells us how well the model fits the data it learned from.\n",
    "# y_train_pred_log_reg = log_reg_model.predict(X_train)\n",
    "# train_accuracy_log_reg = accuracy_score(y_train, y_train_pred_log_reg)\n",
    "# print(f\"\\nQuick check: Training Accuracy for Logistic Regression: {train_accuracy_log_reg:.4f}\")"
   ]
  }
 ],
 "metadata": {
  "kernelspec": {
   "display_name": "churn-ai-en2",
   "language": "python",
   "name": "python3"
  },
  "language_info": {
   "name": "python",
   "version": "3.10.17"
  }
 },
 "nbformat": 4,
 "nbformat_minor": 5
}
