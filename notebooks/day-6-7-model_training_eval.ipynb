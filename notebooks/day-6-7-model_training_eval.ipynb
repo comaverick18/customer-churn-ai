{
 "cells": [
  {
   "cell_type": "markdown",
   "id": "59ab8a75",
   "metadata": {},
   "source": [
    "### Model Training (3 Parts/Models)"
   ]
  },
  {
   "cell_type": "markdown",
   "id": "90875b1f",
   "metadata": {},
   "source": [
    "Import packages and Load Data"
   ]
  },
  {
   "cell_type": "code",
   "execution_count": 1,
   "id": "aa9b7a43",
   "metadata": {},
   "outputs": [],
   "source": [
    "# import packages for training\n",
    "import pandas as pd\n",
    "import numpy as np # Good to have for ML tasks\n",
    "import os # Import the os module\n",
    "from sklearn.linear_model import LogisticRegression\n",
    "from sklearn.metrics import accuracy_score # Use later for evaluation"
   ]
  },
  {
   "cell_type": "code",
   "execution_count": 2,
   "id": "a759e404",
   "metadata": {},
   "outputs": [
    {
     "name": "stdout",
     "output_type": "stream",
     "text": [
      "X_train loaded successfully. Shape: (5634, 27)\n",
      "X_test loaded successfully. Shape: (1409, 27)\n",
      "\n",
      "y_train loaded successfully. Shape: (5634,)\n",
      "y_test loaded successfully. Shape: (1409,)\n",
      "\n",
      "All datasets loaded and y_train/y_test converted to Series.\n"
     ]
    }
   ],
   "source": [
    "# Define the base path components\n",
    "base_project_folder = r\"C:\\Users\\comat\\GitProjects\\customer-churn-ai\" # Raw string is fine here\n",
    "data_subfolder = \"data\"\n",
    "training_input_subfolder_name = \"training_input\"\n",
    "\n",
    "# Construct the path to the 'training_input' directory robustly\n",
    "training_input_path = os.path.join(base_project_folder, data_subfolder, training_input_subfolder_name)\n",
    "\n",
    "# Define full file paths using os.path.join(). (these should match what you saved them as)\n",
    "x_train_path = os.path.join(training_input_path, \"X_train.parquet\")\n",
    "x_test_path = os.path.join(training_input_path, \"X_test.parquet\")\n",
    "y_train_path = os.path.join(training_input_path, \"y_train.parquet\")\n",
    "y_test_path = os.path.join(training_input_path, \"y_test.parquet\")\n",
    "\n",
    "try:\n",
    "    # Load DataFrames (X_train, X_test)\n",
    "    X_train = pd.read_parquet(x_train_path)\n",
    "    X_test = pd.read_parquet(x_test_path)\n",
    "    print(f\"X_train loaded successfully. Shape: {X_train.shape}\")\n",
    "    print(f\"X_test loaded successfully. Shape: {X_test.shape}\")\n",
    "\n",
    "    # Load y_train and y_test (they were saved as DataFrames with a 'Churn' column)\n",
    "    y_train_df = pd.read_parquet(y_train_path)\n",
    "    y_test_df = pd.read_parquet(y_test_path)\n",
    "\n",
    "    # Convert y_train and y_test back to Pandas Series for scikit-learn\n",
    "    if 'Churn' in y_train_df.columns and 'Churn' in y_test_df.columns:\n",
    "        y_train = y_train_df['Churn']\n",
    "        y_test = y_test_df['Churn']\n",
    "        print(f\"\\ny_train loaded successfully. Shape: {y_train.shape}\")\n",
    "        print(f\"y_test loaded successfully. Shape: {y_test.shape}\")\n",
    "        print(\"\\nAll datasets loaded and y_train/y_test converted to Series.\")\n",
    "    else:\n",
    "        print(\"Error: 'Churn' column not found in loaded y_train_df or y_test_df.\")\n",
    "        # Handle error or stop if target is not loaded correctly\n",
    "\n",
    "except FileNotFoundError:\n",
    "    print(f\"Error: One or more Parquet files not found. Please check paths:\")\n",
    "    print(f\"  X_train expected at: {x_train_path}\")\n",
    "    print(f\"  X_test expected at: {x_test_path}\")\n",
    "    print(f\"  y_train expected at: {y_train_path}\")\n",
    "    print(f\"  y_test expected at: {y_test_path}\")\n",
    "except Exception as e:\n",
    "    print(f\"An error occurred while loading the data: {e}\")"
   ]
  },
  {
   "cell_type": "code",
   "execution_count": 3,
   "id": "d0d6ae40",
   "metadata": {},
   "outputs": [
    {
     "name": "stdout",
     "output_type": "stream",
     "text": [
      "\n",
      "Head of X_train:\n",
      "   SeniorCitizen  MonthlyCharges  TotalCharges  gender_Male  Partner_Yes  \\\n",
      "0              0       -0.521976     -0.263871         True        False   \n",
      "1              0        0.337478     -0.505423         True         True   \n",
      "2              0       -0.809013     -0.751850         True         True   \n",
      "3              0        0.284384     -0.174271        False         True   \n",
      "4              0       -0.676279     -0.991514         True         True   \n",
      "\n",
      "   Dependents_Yes  PhoneService_Yes  MultipleLines_Yes  \\\n",
      "0           False             False              False   \n",
      "1            True              True              False   \n",
      "2            True             False              False   \n",
      "3           False              True              False   \n",
      "4            True              True              False   \n",
      "\n",
      "   InternetService_Fiber optic  InternetService_No  ...  Contract_Two year  \\\n",
      "0                        False               False  ...              False   \n",
      "1                         True               False  ...              False   \n",
      "2                        False               False  ...               True   \n",
      "3                        False               False  ...               True   \n",
      "4                        False               False  ...              False   \n",
      "\n",
      "   PaperlessBilling_Yes  PaymentMethod_Credit card (automatic)  \\\n",
      "0                 False                                  False   \n",
      "1                 False                                  False   \n",
      "2                 False                                  False   \n",
      "3                  True                                   True   \n",
      "4                 False                                  False   \n",
      "\n",
      "   PaymentMethod_Electronic check  PaymentMethod_Mailed check  \\\n",
      "0                            True                       False   \n",
      "1                           False                        True   \n",
      "2                           False                        True   \n",
      "3                           False                       False   \n",
      "4                            True                       False   \n",
      "\n",
      "   TenureGrp_13-24 Months  TenureGrp_25-36 Months  TenureGrp_37-48 Months  \\\n",
      "0                   False                    True                   False   \n",
      "1                    True                   False                   False   \n",
      "2                    True                   False                   False   \n",
      "3                   False                    True                   False   \n",
      "4                   False                   False                   False   \n",
      "\n",
      "   TenureGrp_49-60 Months  TenureGrp_61-72 Months  \n",
      "0                   False                   False  \n",
      "1                   False                   False  \n",
      "2                   False                   False  \n",
      "3                   False                   False  \n",
      "4                   False                   False  \n",
      "\n",
      "[5 rows x 27 columns]\n",
      "\n",
      "Head of y_train:\n",
      "0    0\n",
      "1    0\n",
      "2    0\n",
      "3    0\n",
      "4    0\n",
      "Name: Churn, dtype: int64\n"
     ]
    }
   ],
   "source": [
    "# Display the head of X_train and first 5 of y_train to verify\n",
    "print(\"\\nHead of X_train:\")\n",
    "print(X_train.head())\n",
    "print(\"\\nHead of y_train:\")\n",
    "print(y_train.head())"
   ]
  },
  {
   "cell_type": "markdown",
   "id": "0599d4fb",
   "metadata": {},
   "source": [
    "---\n",
    "#### Model 1: Train Logistic Regression Model\n",
    "Initialize Logistic Regression Model and Train the Model"
   ]
  },
  {
   "cell_type": "code",
   "execution_count": 4,
   "id": "e2648780",
   "metadata": {},
   "outputs": [
    {
     "name": "stdout",
     "output_type": "stream",
     "text": [
      "Logistic Regression model initialized with solver='liblinear' and max_iter=1000.\n",
      "\n",
      "Training the Logistic Regression model...\n",
      "Logistic Regression model trained successfully!\n"
     ]
    }
   ],
   "source": [
    "# 1. Initialize the Logistic Regression Model\n",
    "# Begin with mostly default parameters. `liblinear` solver used for binary classification and small datasets.\n",
    "# `random_state` used for reproducibility of results if solver involves randomness.\n",
    "# `max_iter` set to 1000 to ensure convergence for complex datasets. default is 100.\n",
    "log_reg_model = LogisticRegression(solver='liblinear', random_state=42, max_iter=1000)\n",
    "print(\"Logistic Regression model initialized with solver='liblinear' and max_iter=1000.\")\n",
    "\n",
    "# 2. Fit/Train the model using the training data.\n",
    "print(\"\\nTraining the Logistic Regression model...\")\n",
    "log_reg_model.fit(X_train, y_train)\n",
    "print(\"Logistic Regression model trained successfully!\")"
   ]
  },
  {
   "cell_type": "code",
   "execution_count": 5,
   "id": "9a3e47e2",
   "metadata": {},
   "outputs": [
    {
     "name": "stdout",
     "output_type": "stream",
     "text": [
      "Quick check: Training Accuracy for Logistic Regression: 0.8048\n"
     ]
    }
   ],
   "source": [
    "# QUICK Check on training accuracy [NOT a substitute for test set evaluation!]\n",
    "# This just tells us how well the model fits the data it learned from.\n",
    "y_train_pred_log_reg = log_reg_model.predict(X_train)\n",
    "train_accuracy_log_reg = accuracy_score(y_train, y_train_pred_log_reg)\n",
    "print(f\"Quick check: Training Accuracy for Logistic Regression: {train_accuracy_log_reg:.4f}\")"
   ]
  },
  {
   "cell_type": "markdown",
   "id": "1383a6bd",
   "metadata": {},
   "source": [
    "---\n",
    "**Insights / Notes: Logistic Regression**\n",
    "* 0.8 is strong! I will come back and do a deeper analysis  \n",
    "\n",
    "*  \n",
    "\n",
    "    \n",
    "\n",
    "---\n",
    "---"
   ]
  },
  {
   "cell_type": "markdown",
   "id": "99e86ff8",
   "metadata": {},
   "source": [
    "#### Model 2: Train Random Forest Model"
   ]
  },
  {
   "cell_type": "code",
   "execution_count": 6,
   "id": "daf6b506",
   "metadata": {},
   "outputs": [
    {
     "name": "stdout",
     "output_type": "stream",
     "text": [
      "Random Forest Classifier model initialized with n_estimators=100 and n_jobs=-1\n",
      "\n",
      "Training the Random Forest Regression model...(get comfy)\n",
      "Random Forest model trained successfully!\n"
     ]
    }
   ],
   "source": [
    "from sklearn.ensemble import RandomForestClassifier\n",
    "\n",
    "# 1. Initialize the Random Forest Classifier model\n",
    "# Start with common default values; set a random_state for reproducibility.\n",
    "# n_estimators is the number of trees in the forest. n_jobs=-1 uses all available CPU cores for training to boost speed.\n",
    "rf_model = RandomForestClassifier(n_estimators=100, random_state=42, n_jobs=-1)\n",
    "print(\"Random Forest Classifier model initialized with n_estimators=100 and n_jobs=-1\")\n",
    "\n",
    "# 2. Fit/Train the model using the training data.\n",
    "print(\"\\nTraining the Random Forest Regression model...(get comfy)\")\n",
    "rf_model.fit(X_train, y_train)\n",
    "print(\"Random Forest model trained successfully!\")"
   ]
  },
  {
   "cell_type": "code",
   "execution_count": 7,
   "id": "87db369f",
   "metadata": {},
   "outputs": [
    {
     "name": "stdout",
     "output_type": "stream",
     "text": [
      "\n",
      "Quick check: Training Accuracy for Random Forest: 0.9980\n"
     ]
    }
   ],
   "source": [
    "# QUICK Check on training accuracy [NOT a substitute for test set evaluation!]\n",
    "# This just tells us how well the model fits the data it learned from.\n",
    "try:\n",
    "    y_train_pred_rf = rf_model.predict(X_train)\n",
    "    train_accuracy_rf = accuracy_score(y_train, y_train_pred_rf)\n",
    "    print(f\"\\nQuick check: Training Accuracy for Random Forest: {train_accuracy_rf:.4f}\")\n",
    "except Exception as e:\n",
    "    print(f\"Could not calculate training score: {e}\")"
   ]
  },
  {
   "cell_type": "markdown",
   "id": "76cea447",
   "metadata": {},
   "source": [
    "---\n",
    "**Insights / Notes: Random Forest**\n",
    "* 0.9980 is even stronger! I will come back and do a deeper analysis  \n",
    "\n",
    "*  \n",
    "\n",
    "    \n",
    "\n",
    "---\n",
    "---"
   ]
  },
  {
   "cell_type": "markdown",
   "id": "893eecc6",
   "metadata": {},
   "source": [
    "#### Model 3: Train XGBoost Model"
   ]
  },
  {
   "cell_type": "code",
   "execution_count": 8,
   "id": "b94fc566",
   "metadata": {},
   "outputs": [
    {
     "name": "stdout",
     "output_type": "stream",
     "text": [
      "XGBoost model initialized.\n",
      "\n",
      "Training the XGBoost model... (This might also take a moment)\n",
      "XGBoost model trained successfully!\n"
     ]
    }
   ],
   "source": [
    "from xgboost import XGBClassifier\n",
    "\n",
    "# 1. Initialize the XGBoost Classifier model\n",
    "# We'll set a random_state for reproducibility.\n",
    "# For binary classification, specify objective with 'binary:logistic'.\n",
    "# eval_metric can be set to 'logloss' or 'auc' for classification.\n",
    "xgb_model = XGBClassifier(objective='binary:logistic',\n",
    "                          eval_metric='logloss',    # A common metric for binary classification\n",
    "                          random_state=42)\n",
    "\n",
    "print(\"XGBoost model initialized.\")\n",
    "\n",
    "# 2. Fit/Train the model using the training data.\n",
    "print(\"\\nTraining the XGBoost model... (This might also take a moment)\")\n",
    "xgb_model.fit(X_train, y_train)\n",
    "print(\"XGBoost model trained successfully!\")"
   ]
  },
  {
   "cell_type": "code",
   "execution_count": 9,
   "id": "2538deef",
   "metadata": {},
   "outputs": [
    {
     "name": "stdout",
     "output_type": "stream",
     "text": [
      "\n",
      "Quick check: Training Accuracy for XGBoost: 0.9322\n"
     ]
    }
   ],
   "source": [
    "# QUICK Check on training accuracy [NOT a substitute for test set evaluation!]\n",
    "# This just tells us how well the model fits the data it learned from.\n",
    "try:\n",
    "    y_train_pred_xgb = xgb_model.predict(X_train)\n",
    "    train_accuracy_xgb = accuracy_score(y_train, y_train_pred_xgb)\n",
    "    print(f\"\\nQuick check: Training Accuracy for XGBoost: {train_accuracy_xgb:.4f}\")\n",
    "except Exception as e:\n",
    "    print(f\"Could not calculate training score: {e}\")"
   ]
  },
  {
   "cell_type": "markdown",
   "id": "c92befa7",
   "metadata": {},
   "source": [
    "---\n",
    "**Insights / Notes: XGBoost**\n",
    "* 0.9320 is just behind RF and ahead of LR. All three are great!\n",
    "* I will come back and do a deeper analysis  \n",
    "\n",
    "*  \n",
    "\n",
    "    \n",
    "\n",
    "---\n",
    "---"
   ]
  },
  {
   "cell_type": "markdown",
   "id": "eeb2a9c7",
   "metadata": {},
   "source": [
    "### Day 7: Model Evaluation"
   ]
  },
  {
   "cell_type": "markdown",
   "id": "78b121c5",
   "metadata": {},
   "source": [
    "---\n",
    "#### 7.01 Evaluate Logistic Regression Model"
   ]
  },
  {
   "cell_type": "code",
   "execution_count": 10,
   "id": "afb0a31e",
   "metadata": {},
   "outputs": [],
   "source": [
    "from sklearn.metrics import accuracy_score, precision_score, recall_score, f1_score, roc_auc_score, confusion_matrix, classification_report"
   ]
  },
  {
   "cell_type": "code",
   "execution_count": 11,
   "id": "44e81b17",
   "metadata": {},
   "outputs": [
    {
     "name": "stdout",
     "output_type": "stream",
     "text": [
      "\n",
      "\n",
      "--- Evaluating Logistic Regression Model ---\n",
      "\n",
      "--- Logistic Regression Metrics ---\n",
      "Accuracy:  0.7984\n",
      "Precision: 0.6573\n",
      "Recall:    0.5027\n",
      "F1-Score:  0.5697\n",
      "AUC:       0.8362\n",
      "\n",
      "Confusion Matrix (Logistic Regression):\n",
      "[[937  98]\n",
      " [186 188]]\n"
     ]
    },
    {
     "data": {
      "image/png": "[encoded data removed]",
      "text/plain": [
       "<Figure size 600x400 with 1 Axes>"
      ]
     },
     "metadata": {},
     "output_type": "display_data"
    },
    {
     "name": "stdout",
     "output_type": "stream",
     "text": [
      "\n",
      "Classification Report (Logistic Regression):\n",
      "              precision    recall  f1-score   support\n",
      "\n",
      "No Churn (0)       0.83      0.91      0.87      1035\n",
      "   Churn (1)       0.66      0.50      0.57       374\n",
      "\n",
      "    accuracy                           0.80      1409\n",
      "   macro avg       0.75      0.70      0.72      1409\n",
      "weighted avg       0.79      0.80      0.79      1409\n",
      "\n"
     ]
    }
   ],
   "source": [
    "# 1. Make predictions on the test set\n",
    "print(\"\\n\\n--- Evaluating Logistic Regression Model ---\")\n",
    "y_pred_log_reg = log_reg_model.predict(X_test)\n",
    "\n",
    "# For AUC, we need probability scores for the positive class (Churn=1)\n",
    "y_pred_proba_log_reg = log_reg_model.predict_proba(X_test)[:, 1]\n",
    "\n",
    "# 2. Calculate Eval Metrics\n",
    "accuracy_lr = accuracy_score(y_test, y_pred_log_reg)\n",
    "precision_lr = precision_score(y_test, y_pred_log_reg)\n",
    "recall_lr = recall_score(y_test, y_pred_log_reg)\n",
    "f1_lr = f1_score(y_test, y_pred_log_reg)\n",
    "auc_lr = roc_auc_score(y_test, y_pred_proba_log_reg)\n",
    "\n",
    "# 3. Print Evaluation Metrics\n",
    "print(\"\\n--- Logistic Regression Metrics ---\")\n",
    "print(f\"Accuracy:  {accuracy_lr:.4f}\")\n",
    "print(f\"Precision: {precision_lr:.4f}\")\n",
    "print(f\"Recall:    {recall_lr:.4f}\")\n",
    "print(f\"F1-Score:  {f1_lr:.4f}\")\n",
    "print(f\"AUC:       {auc_lr:.4f}\")\n",
    "\n",
    "# 4. Display Confusion Matrix\n",
    "print(\"\\nConfusion Matrix (Logistic Regression):\")\n",
    "cm_lr = confusion_matrix(y_test, y_pred_log_reg)\n",
    "print(cm_lr)\n",
    "# For a more visual display of the confusion matrix (optional, but nice):\n",
    "import seaborn as sns\n",
    "import matplotlib.pyplot as plt\n",
    "plt.figure(figsize=(6,4))\n",
    "sns.heatmap(cm_lr, annot=True, fmt='d', cmap='Blues', cbar=False,\n",
    "            xticklabels=['Predicted No Churn', 'Predicted Churn'],\n",
    "            yticklabels=['Actual No Churn', 'Actual Churn'])\n",
    "plt.title('Confusion Matrix - Logistic Regression')\n",
    "plt.ylabel('Actual')\n",
    "plt.xlabel('Predicted')\n",
    "plt.show()\n",
    "\n",
    "# 5. Display Classification Report (provides precision, recall, f1-score per class)\n",
    "print(\"\\nClassification Report (Logistic Regression):\")\n",
    "print(classification_report(y_test, y_pred_log_reg, target_names=['No Churn (0)', 'Churn (1)']))"
   ]
  },
  {
   "cell_type": "markdown",
   "id": "89585f65",
   "metadata": {},
   "source": [
    "---\n",
    "* Results are looking much more realistic than what was being output previously when there was data leakage from the HF sentiment features. \n",
    "* See notebook day-6-7-data_leakage.ipynb  \n",
    "    \n",
    "**Insights / Notes: Logistic Regression**\n",
    "* Highest overall \"test score\" (AUC) and was very careful with churn (high Precision for churners), making fewer wrong accusations. However, it missed about half the customers who did churn (moderate Recall for churners).\n",
    "\n",
    "---\n",
    "---"
   ]
  },
  {
   "cell_type": "markdown",
   "id": "0c1d72f9",
   "metadata": {},
   "source": [
    "---\n",
    "#### 7.02 Evaluate Random Forest Model"
   ]
  },
  {
   "cell_type": "code",
   "execution_count": 12,
   "id": "d91613dd",
   "metadata": {},
   "outputs": [
    {
     "name": "stdout",
     "output_type": "stream",
     "text": [
      "\n",
      "\n",
      "--- Evaluating Random Forest Model ---\n",
      "\n",
      "--- Random Forest Metrics ---\n",
      "Accuracy:  0.7828\n",
      "Precision: 0.6149\n",
      "Recall:    0.4866\n",
      "F1-Score:  0.5433\n",
      "AUC:       0.8189\n",
      "\n",
      "Confusion Matrix (Random Forest):\n",
      "[[921 114]\n",
      " [192 182]]\n"
     ]
    },
    {
     "data": {
      "image/png": "[encoded data removed]",
      "text/plain": [
       "<Figure size 600x400 with 1 Axes>"
      ]
     },
     "metadata": {},
     "output_type": "display_data"
    },
    {
     "name": "stdout",
     "output_type": "stream",
     "text": [
      "\n",
      "Classification Report (Random Forest):\n",
      "              precision    recall  f1-score   support\n",
      "\n",
      "No Churn (0)       0.83      0.89      0.86      1035\n",
      "   Churn (1)       0.61      0.49      0.54       374\n",
      "\n",
      "    accuracy                           0.78      1409\n",
      "   macro avg       0.72      0.69      0.70      1409\n",
      "weighted avg       0.77      0.78      0.77      1409\n",
      "\n"
     ]
    }
   ],
   "source": [
    "# 1. Make predictions on the test set\n",
    "print(\"\\n\\n--- Evaluating Random Forest Model ---\")\n",
    "y_pred_rf = rf_model.predict(X_test)\n",
    "\n",
    "# For AUC, we need probability scores for the positive class (Churn=1)\n",
    "y_pred_proba_rf = rf_model.predict_proba(X_test)[:, 1]\n",
    "\n",
    "# 2. Calculate Eval Metrics\n",
    "accuracy_rf = accuracy_score(y_test, y_pred_rf)\n",
    "precision_rf = precision_score(y_test, y_pred_rf)\n",
    "recall_rf = recall_score(y_test, y_pred_rf)\n",
    "f1_rf = f1_score(y_test, y_pred_rf)\n",
    "auc_rf = roc_auc_score(y_test, y_pred_proba_rf)\n",
    "\n",
    "# 3. Print Evaluation Metrics\n",
    "print(\"\\n--- Random Forest Metrics ---\")\n",
    "print(f\"Accuracy:  {accuracy_rf:.4f}\")\n",
    "print(f\"Precision: {precision_rf:.4f}\")\n",
    "print(f\"Recall:    {recall_rf:.4f}\")\n",
    "print(f\"F1-Score:  {f1_rf:.4f}\")\n",
    "print(f\"AUC:       {auc_rf:.4f}\")\n",
    "\n",
    "# 4. Display Confusion Matrix\n",
    "print(\"\\nConfusion Matrix (Random Forest):\")\n",
    "cm_rf = confusion_matrix(y_test, y_pred_rf)\n",
    "print(cm_rf)\n",
    "\n",
    "# For a more visual display of the confusion matrix (optional, but nice):\n",
    "plt.figure(figsize=(6,4))\n",
    "sns.heatmap(cm_rf, annot=True, fmt='d', cmap='Greens', cbar=False,\n",
    "            xticklabels=['Predicted No Churn', 'Predicted Churn'],\n",
    "            yticklabels=['Actual No Churn', 'Actual Churn'])\n",
    "plt.title('Confusion Matrix - Random Forest')\n",
    "plt.ylabel('Actual')\n",
    "plt.xlabel('Predicted')\n",
    "plt.show()\n",
    "\n",
    "# 5. Display Classification Report (provides precision, recall, f1-score per class)\n",
    "print(\"\\nClassification Report (Random Forest):\")\n",
    "print(classification_report(y_test, y_pred_rf, target_names=['No Churn (0)', 'Churn (1)']))\n"
   ]
  },
  {
   "cell_type": "markdown",
   "id": "7e2e4cc2",
   "metadata": {},
   "source": [
    "---\n",
    "**Insights / Notes: Random Forest**\n",
    "* Performed decently overall but was a bit less effective at both precisely identifying churners and catching all of them compared to the others.\n",
    "\n",
    "---\n",
    "---"
   ]
  },
  {
   "cell_type": "markdown",
   "id": "d3c0479a",
   "metadata": {},
   "source": [
    "---\n",
    "#### 7.03 Evaluate XGBoost Model"
   ]
  },
  {
   "cell_type": "code",
   "execution_count": 13,
   "id": "211de167",
   "metadata": {},
   "outputs": [
    {
     "name": "stdout",
     "output_type": "stream",
     "text": [
      "\n",
      "\n",
      "--- Evaluating XGBoost Model ---\n",
      "\n",
      "--- XGBoost Metrics ---\n",
      "Accuracy:  0.7913\n",
      "Precision: 0.6212\n",
      "Recall:    0.5481\n",
      "F1-Score:  0.5824\n",
      "AUC:       0.8209\n",
      "\n",
      "Confusion Matrix (Random Forest):\n",
      "[[910 125]\n",
      " [169 205]]\n"
     ]
    },
    {
     "data": {
      "image/png": "[encoded data removed]",
      "text/plain": [
       "<Figure size 600x400 with 1 Axes>"
      ]
     },
     "metadata": {},
     "output_type": "display_data"
    },
    {
     "name": "stdout",
     "output_type": "stream",
     "text": [
      "\n",
      "Classification Report (Random Forest):\n",
      "              precision    recall  f1-score   support\n",
      "\n",
      "No Churn (0)       0.84      0.88      0.86      1035\n",
      "   Churn (1)       0.62      0.55      0.58       374\n",
      "\n",
      "    accuracy                           0.79      1409\n",
      "   macro avg       0.73      0.71      0.72      1409\n",
      "weighted avg       0.78      0.79      0.79      1409\n",
      "\n"
     ]
    }
   ],
   "source": [
    "# 1. Make predictions on the test set\n",
    "print(\"\\n\\n--- Evaluating XGBoost Model ---\")\n",
    "y_pred_xgb = xgb_model.predict(X_test)\n",
    "\n",
    "# For AUC, we need probability scores for the positive class (Churn=1)\n",
    "y_pred_proba_xgb = xgb_model.predict_proba(X_test)[:, 1]\n",
    "\n",
    "# 2. Calculate Eval Metrics\n",
    "accuracy_xgb = accuracy_score(y_test, y_pred_xgb)\n",
    "precision_xgb = precision_score(y_test, y_pred_xgb)\n",
    "recall_xgb = recall_score(y_test, y_pred_xgb)\n",
    "f1_xgb = f1_score(y_test, y_pred_xgb)\n",
    "auc_xgb = roc_auc_score(y_test, y_pred_proba_xgb)\n",
    "\n",
    "# 3. Print Evaluation Metrics\n",
    "print(\"\\n--- XGBoost Metrics ---\")\n",
    "print(f\"Accuracy:  {accuracy_xgb:.4f}\")\n",
    "print(f\"Precision: {precision_xgb:.4f}\")\n",
    "print(f\"Recall:    {recall_xgb:.4f}\")\n",
    "print(f\"F1-Score:  {f1_xgb:.4f}\")\n",
    "print(f\"AUC:       {auc_xgb:.4f}\")\n",
    "\n",
    "# 4. Display Confusion Matrix\n",
    "print(\"\\nConfusion Matrix (Random Forest):\")\n",
    "cm_xgb = confusion_matrix(y_test, y_pred_xgb)\n",
    "print(cm_xgb)\n",
    "\n",
    "# For a more visual display of the confusion matrix (optional, but nice):\n",
    "plt.figure(figsize=(6,4))\n",
    "sns.heatmap(cm_xgb, annot=True, fmt='d', cmap='Oranges', cbar=False,\n",
    "            xticklabels=['Predicted No Churn', 'Predicted Churn'],\n",
    "            yticklabels=['Actual No Churn', 'Actual Churn'])\n",
    "plt.title('Confusion Matrix - Random Forest')\n",
    "plt.ylabel('Actual')\n",
    "plt.xlabel('Predicted')\n",
    "plt.show()\n",
    "\n",
    "# 5. Display Classification Report (provides precision, recall, f1-score per class)\n",
    "print(\"\\nClassification Report (Random Forest):\")\n",
    "print(classification_report(y_test, y_pred_xgb, target_names=['No Churn (0)', 'Churn (1)']))\n"
   ]
  },
  {
   "cell_type": "markdown",
   "id": "2950f82e",
   "metadata": {},
   "source": [
    "---\n",
    "**Insights / Notes: XGBoost**\n",
    "* Best at \"catching\" the customers who were going to churn (highest Recall for churners) and had the best balance (F1-score) for that group. Occasionally misidentified a few more non-churners as churners (higher FP) compared to Logistic Regression.\n",
    " \n",
    "\n",
    "---\n",
    "---"
   ]
  },
  {
   "cell_type": "markdown",
   "id": "0b045d30",
   "metadata": {},
   "source": [
    "---\n",
    "#### **Overall Analysis**\n",
    "**Accuracy**:\n",
    "- `(TP + TN) / Total` - Overall, what fraction of predictions were correct? (Can be misleading if classes are imbalanced).\n",
    "    - ***Logistic Regression*** performed the best, but it is marginal at 0.9%  \n",
    "\n",
    "**AUC (Area Under the ROC Curve):** \n",
    "- The ROC curve plots True Positive Rate (Recall) against False Positive Rate at various threshold settings. AUC distinguishing between a random customer who will churn and one who won't, across various probability thresholds. An AUC of 0.5 is random guessing; an AUC of 1.0 is perfect classification.\n",
    "    - ***Logistic Regression*** is the best at distinguising between a randome customer who will churn and one who won't  \n",
    "\n",
    "**Identifying Churner** **Recall (Sensitivity or True Positive Rate):**\n",
    "- `TP / (TP + FN)` - Of all customers who _actually_ churned, how many did the model correctly identify? (Measures \"completeness\" or ability to find all churners).\n",
    "    - ***XGBoost*** leads here with a Recall of 0.5481. This means it correctly identified about 54.8% of the customers who actually churned in the test set. This is often a very important metric in churn prediction, as missing a potential churner (a False Negative) can be costly.  \n",
    "\n",
    "**Precision**:\n",
    "-  `TP / (TP + FP)` - Of all customers the model predicted would churn, how many _actually_ churned? (Measures the \"exactness\" of positive predictions).\n",
    "    - ***Logistic Regression*** performed the best by 5.81%.\n",
    "    -  LR predicts a customer will churn 65.7% of the time. **Important if the cost of retention efforts is high** and you want to minimize outreach to customers who weren't actually going to churn.  \n",
    "    \n",
    "**F1-Score**:\n",
    "- `2 * (Precision * Recall) / (Precision + Recall)` - The harmonic mean of Precision and Recall. It's a good single metric when you care about both false positives and false negatives, especially with imbalanced classes.\n",
    "    - ***XGBoost*** has the highest F1-Score (0.5824) for the churn class, indicating the best balance between Precision and Recall for identifying churners. Logistic Regression (0.5697) is next.\n",
    "\n",
    "---"
   ]
  },
  {
   "cell_type": "markdown",
   "id": "443a7776",
   "metadata": {},
   "source": [
    "**Model Choice**\n",
    "* Identify as many actual churners as possible (maximize Recall for churners), even if it means contacting a few extra non-churners:\n",
    "    * ***XGBoost*** is the strongest performer due to its higher Recall and F1-score for the churn class, and the lowest number of False Negatives.\n",
    "    * Often, for churn, Recall for the churn class is prioritized because the cost of losing a customer is usually higher than the cost of a retention effort.  \n",
    "  \n",
    "\n",
    "* Be as precise when you predict churn (minimize efforts on non-churners):\n",
    "    * ***Logistic Regression*** has the edge with higher Precision for churners.\n",
    "\n",
    "* Overall ability to distinguish: Logistic Regression has a slight edge in AUC."
   ]
  },
  {
   "cell_type": "markdown",
   "id": "6561444f",
   "metadata": {},
   "source": [
    "---\n",
    "---\n",
    "#### 7.10  Model Explainability with SHAP"
   ]
  }
 ],
 "metadata": {
  "kernelspec": {
   "display_name": "churn-ai-en2",
   "language": "python",
   "name": "python3"
  },
  "language_info": {
   "codemirror_mode": {
    "name": "ipython",
    "version": 3
   },
   "file_extension": ".py",
   "mimetype": "text/x-python",
   "name": "python",
   "nbconvert_exporter": "python",
   "pygments_lexer": "ipython3",
   "version": "3.10.17"
  }
 },
 "nbformat": 4,
 "nbformat_minor": 5
}
