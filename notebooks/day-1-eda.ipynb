{
 "cells": [
  {
   "cell_type": "code",
   "execution_count": 31,
   "id": "a4eeda51",
   "metadata": {},
   "outputs": [],
   "source": [
    "# #import the latest dataset from Kaggle\n",
    "# import kagglehub\n",
    "\n",
    "# # Download latest version of the dataset\n",
    "# dataset_name = \"blastchar/telco-customer-churn\"\n",
    "# path = kagglehub.dataset_download(dataset_name)\n",
    "\n",
    "# print(\"Path to dataset files:\", path)\n",
    "# #Path to dataset files: C:\\Users\\comat\\.cache\\kagglehub\\datasets\\blastchar\\telco-customer-churn\\versions\\1"
   ]
  },
  {
   "cell_type": "code",
   "execution_count": 32,
   "id": "89696108",
   "metadata": {},
   "outputs": [],
   "source": [
    "import pandas as pd\n",
    "import seaborn as sns\n",
    "import matplotlib.pyplot as plt\n",
    "import numpy as np"
   ]
  },
  {
   "cell_type": "code",
   "execution_count": 33,
   "id": "1c563283",
   "metadata": {},
   "outputs": [
    {
     "name": "stdout",
     "output_type": "stream",
     "text": [
      "Data loaded successfully.\n"
     ]
    }
   ],
   "source": [
    "file_path = r\"C:\\Users\\comat\\GitProjects\\customer-churn-ai\\data\\Raw-Telco-Customer-Churn-w-Review.csv\"\n",
    "\n",
    "# Ensure the file exists and load the data; # Troubleshoot: encoding\n",
    "try:\n",
    "    df = pd.read_csv(file_path) #, encoding='latin1')\n",
    "    print(\"Data loaded successfully.\")\n",
    "except FileNotFoundError:\n",
    "    print(f\"Error: File not found at {file_path}\")\n",
    "except Exception as e:\n",
    "    print(f\"An error occurred: {e}\")"
   ]
  },
  {
   "cell_type": "markdown",
   "id": "ad89e7ee",
   "metadata": {},
   "source": [
    "Intitial Inspection"
   ]
  },
  {
   "cell_type": "code",
   "execution_count": 34,
   "id": "4a003bb5",
   "metadata": {},
   "outputs": [
    {
     "data": {
      "text/html": [
       "<div>\n",
       "<style scoped>\n",
       "    .dataframe tbody tr th:only-of-type {\n",
       "        vertical-align: middle;\n",
       "    }\n",
       "\n",
       "    .dataframe tbody tr th {\n",
       "        vertical-align: top;\n",
       "    }\n",
       "\n",
       "    .dataframe thead th {\n",
       "        text-align: right;\n",
       "    }\n",
       "</style>\n",
       "<table border=\"1\" class=\"dataframe\">\n",
       "  <thead>\n",
       "    <tr style=\"text-align: right;\">\n",
       "      <th></th>\n",
       "      <th>customerID</th>\n",
       "      <th>gender</th>\n",
       "      <th>SeniorCitizen</th>\n",
       "      <th>Partner</th>\n",
       "      <th>Dependents</th>\n",
       "      <th>tenure</th>\n",
       "      <th>PhoneService</th>\n",
       "      <th>MultipleLines</th>\n",
       "      <th>InternetService</th>\n",
       "      <th>OnlineSecurity</th>\n",
       "      <th>...</th>\n",
       "      <th>TechSupport</th>\n",
       "      <th>StreamingTV</th>\n",
       "      <th>StreamingMovies</th>\n",
       "      <th>Contract</th>\n",
       "      <th>PaperlessBilling</th>\n",
       "      <th>PaymentMethod</th>\n",
       "      <th>MonthlyCharges</th>\n",
       "      <th>TotalCharges</th>\n",
       "      <th>Churn</th>\n",
       "      <th>customer_review</th>\n",
       "    </tr>\n",
       "  </thead>\n",
       "  <tbody>\n",
       "    <tr>\n",
       "      <th>0</th>\n",
       "      <td>7590-VHVEG</td>\n",
       "      <td>Female</td>\n",
       "      <td>0</td>\n",
       "      <td>Yes</td>\n",
       "      <td>No</td>\n",
       "      <td>1</td>\n",
       "      <td>No</td>\n",
       "      <td>No phone service</td>\n",
       "      <td>DSL</td>\n",
       "      <td>No</td>\n",
       "      <td>...</td>\n",
       "      <td>No</td>\n",
       "      <td>No</td>\n",
       "      <td>No</td>\n",
       "      <td>Month-to-month</td>\n",
       "      <td>Yes</td>\n",
       "      <td>Electronic check</td>\n",
       "      <td>29.85</td>\n",
       "      <td>29.85</td>\n",
       "      <td>No</td>\n",
       "      <td>Really happy with my plan... no unexpected fee...</td>\n",
       "    </tr>\n",
       "    <tr>\n",
       "      <th>1</th>\n",
       "      <td>5575-GNVDE</td>\n",
       "      <td>Male</td>\n",
       "      <td>0</td>\n",
       "      <td>No</td>\n",
       "      <td>No</td>\n",
       "      <td>34</td>\n",
       "      <td>Yes</td>\n",
       "      <td>No</td>\n",
       "      <td>DSL</td>\n",
       "      <td>Yes</td>\n",
       "      <td>...</td>\n",
       "      <td>No</td>\n",
       "      <td>No</td>\n",
       "      <td>No</td>\n",
       "      <td>One year</td>\n",
       "      <td>No</td>\n",
       "      <td>Mailed check</td>\n",
       "      <td>56.95</td>\n",
       "      <td>1889.5</td>\n",
       "      <td>No</td>\n",
       "      <td>Really happy with my plan... phone support was...</td>\n",
       "    </tr>\n",
       "    <tr>\n",
       "      <th>2</th>\n",
       "      <td>3668-QPYBK</td>\n",
       "      <td>Male</td>\n",
       "      <td>0</td>\n",
       "      <td>No</td>\n",
       "      <td>No</td>\n",
       "      <td>2</td>\n",
       "      <td>Yes</td>\n",
       "      <td>No</td>\n",
       "      <td>DSL</td>\n",
       "      <td>Yes</td>\n",
       "      <td>...</td>\n",
       "      <td>No</td>\n",
       "      <td>No</td>\n",
       "      <td>No</td>\n",
       "      <td>Month-to-month</td>\n",
       "      <td>Yes</td>\n",
       "      <td>Mailed check</td>\n",
       "      <td>53.85</td>\n",
       "      <td>108.15</td>\n",
       "      <td>Yes</td>\n",
       "      <td>Unfortunately, my service was... frustrated by...</td>\n",
       "    </tr>\n",
       "  </tbody>\n",
       "</table>\n",
       "<p>3 rows × 22 columns</p>\n",
       "</div>"
      ],
      "text/plain": [
       "   customerID  gender  SeniorCitizen Partner Dependents  tenure PhoneService  \\\n",
       "0  7590-VHVEG  Female              0     Yes         No       1           No   \n",
       "1  5575-GNVDE    Male              0      No         No      34          Yes   \n",
       "2  3668-QPYBK    Male              0      No         No       2          Yes   \n",
       "\n",
       "      MultipleLines InternetService OnlineSecurity  ... TechSupport  \\\n",
       "0  No phone service             DSL             No  ...          No   \n",
       "1                No             DSL            Yes  ...          No   \n",
       "2                No             DSL            Yes  ...          No   \n",
       "\n",
       "  StreamingTV StreamingMovies        Contract PaperlessBilling  \\\n",
       "0          No              No  Month-to-month              Yes   \n",
       "1          No              No        One year               No   \n",
       "2          No              No  Month-to-month              Yes   \n",
       "\n",
       "      PaymentMethod MonthlyCharges TotalCharges  Churn  \\\n",
       "0  Electronic check          29.85        29.85     No   \n",
       "1      Mailed check          56.95       1889.5     No   \n",
       "2      Mailed check          53.85       108.15    Yes   \n",
       "\n",
       "                                     customer_review  \n",
       "0  Really happy with my plan... no unexpected fee...  \n",
       "1  Really happy with my plan... phone support was...  \n",
       "2  Unfortunately, my service was... frustrated by...  \n",
       "\n",
       "[3 rows x 22 columns]"
      ]
     },
     "execution_count": 34,
     "metadata": {},
     "output_type": "execute_result"
    }
   ],
   "source": [
    "df.head(3)"
   ]
  },
  {
   "cell_type": "code",
   "execution_count": 35,
   "id": "e43ede42",
   "metadata": {},
   "outputs": [
    {
     "name": "stdout",
     "output_type": "stream",
     "text": [
      "<class 'pandas.core.frame.DataFrame'>\n",
      "RangeIndex: 7043 entries, 0 to 7042\n",
      "Data columns (total 22 columns):\n",
      " #   Column            Non-Null Count  Dtype  \n",
      "---  ------            --------------  -----  \n",
      " 0   customerID        7043 non-null   object \n",
      " 1   gender            7043 non-null   object \n",
      " 2   SeniorCitizen     7043 non-null   int64  \n",
      " 3   Partner           7043 non-null   object \n",
      " 4   Dependents        7043 non-null   object \n",
      " 5   tenure            7043 non-null   int64  \n",
      " 6   PhoneService      7043 non-null   object \n",
      " 7   MultipleLines     7043 non-null   object \n",
      " 8   InternetService   7043 non-null   object \n",
      " 9   OnlineSecurity    7043 non-null   object \n",
      " 10  OnlineBackup      7043 non-null   object \n",
      " 11  DeviceProtection  7043 non-null   object \n",
      " 12  TechSupport       7043 non-null   object \n",
      " 13  StreamingTV       7043 non-null   object \n",
      " 14  StreamingMovies   7043 non-null   object \n",
      " 15  Contract          7043 non-null   object \n",
      " 16  PaperlessBilling  7043 non-null   object \n",
      " 17  PaymentMethod     7043 non-null   object \n",
      " 18  MonthlyCharges    7043 non-null   float64\n",
      " 19  TotalCharges      7043 non-null   object \n",
      " 20  Churn             7043 non-null   object \n",
      " 21  customer_review   7043 non-null   object \n",
      "dtypes: float64(1), int64(2), object(19)\n",
      "memory usage: 1.2+ MB\n"
     ]
    }
   ],
   "source": [
    "df.info()"
   ]
  },
  {
   "cell_type": "code",
   "execution_count": 36,
   "id": "7dddb045",
   "metadata": {},
   "outputs": [
    {
     "data": {
      "text/plain": [
       "customerID          0\n",
       "gender              0\n",
       "SeniorCitizen       0\n",
       "Partner             0\n",
       "Dependents          0\n",
       "tenure              0\n",
       "PhoneService        0\n",
       "MultipleLines       0\n",
       "InternetService     0\n",
       "OnlineSecurity      0\n",
       "OnlineBackup        0\n",
       "DeviceProtection    0\n",
       "TechSupport         0\n",
       "StreamingTV         0\n",
       "StreamingMovies     0\n",
       "Contract            0\n",
       "PaperlessBilling    0\n",
       "PaymentMethod       0\n",
       "MonthlyCharges      0\n",
       "TotalCharges        0\n",
       "Churn               0\n",
       "customer_review     0\n",
       "dtype: int64"
      ]
     },
     "execution_count": 36,
     "metadata": {},
     "output_type": "execute_result"
    }
   ],
   "source": [
    "# Check for missing values\n",
    "df.isnull().sum()"
   ]
  },
  {
   "cell_type": "code",
   "execution_count": 37,
   "id": "f7223e39",
   "metadata": {},
   "outputs": [
    {
     "data": {
      "text/plain": [
       "np.int64(0)"
      ]
     },
     "execution_count": 37,
     "metadata": {},
     "output_type": "execute_result"
    }
   ],
   "source": [
    "df.duplicated().sum()"
   ]
  },
  {
   "cell_type": "markdown",
   "id": "756e04af",
   "metadata": {},
   "source": [
    "---\n",
    "#### **Initial Clean**"
   ]
  },
  {
   "cell_type": "code",
   "execution_count": 38,
   "id": "52fb971f",
   "metadata": {},
   "outputs": [
    {
     "name": "stdout",
     "output_type": "stream",
     "text": [
      "Column 'customer_review' successfully renamed to 'CustomerReview'.\n",
      "Updated columns: ['customerID', 'gender', 'SeniorCitizen', 'Partner', 'Dependents', 'tenure', 'PhoneService', 'MultipleLines', 'InternetService', 'OnlineSecurity', 'OnlineBackup', 'DeviceProtection', 'TechSupport', 'StreamingTV', 'StreamingMovies', 'Contract', 'PaperlessBilling', 'PaymentMethod', 'MonthlyCharges', 'TotalCharges', 'Churn', 'CustomerReview']\n"
     ]
    }
   ],
   "source": [
    "# --- Rename Column ---\n",
    "if 'customer_review' in df.columns:\n",
    "    df = df.rename(columns={'customer_review': 'CustomerReview'})\n",
    "    print(\"Column 'customer_review' successfully renamed to 'CustomerReview'.\")\n",
    "\n",
    "    # --- Verify the change ---\n",
    "    print(\"Updated columns:\", df.columns.tolist())\n",
    "    # print(df.head()) # Uncomment to see the first few rows with the new header\n",
    "else:\n",
    "    print(\"Error: Column 'customer_review' not found in the DataFrame. Please check the column name exists and verify the correct data is loaded.\")"
   ]
  },
  {
   "cell_type": "code",
   "execution_count": 39,
   "id": "bfee7d23",
   "metadata": {},
   "outputs": [],
   "source": [
    "# Some columns may have whitespace or inconsistent values\n",
    "df = df.apply(lambda x: x.str.strip() if x.dtype == \"object\" else x)"
   ]
  },
  {
   "cell_type": "code",
   "execution_count": 40,
   "id": "020f41dd",
   "metadata": {},
   "outputs": [],
   "source": [
    "# Convert 'TotalCharges' to numeric, forcing errors to NaN\n",
    "df[\"TotalCharges\"] = pd.to_numeric(df[\"TotalCharges\"], errors='coerce')\n"
   ]
  },
  {
   "cell_type": "code",
   "execution_count": 41,
   "id": "2e496717",
   "metadata": {},
   "outputs": [
    {
     "name": "stdout",
     "output_type": "stream",
     "text": [
      "<class 'pandas.core.frame.DataFrame'>\n",
      "RangeIndex: 7043 entries, 0 to 7042\n",
      "Data columns (total 22 columns):\n",
      " #   Column            Non-Null Count  Dtype  \n",
      "---  ------            --------------  -----  \n",
      " 0   customerID        7043 non-null   object \n",
      " 1   gender            7043 non-null   object \n",
      " 2   SeniorCitizen     7043 non-null   int64  \n",
      " 3   Partner           7043 non-null   object \n",
      " 4   Dependents        7043 non-null   object \n",
      " 5   tenure            7043 non-null   int64  \n",
      " 6   PhoneService      7043 non-null   object \n",
      " 7   MultipleLines     7043 non-null   object \n",
      " 8   InternetService   7043 non-null   object \n",
      " 9   OnlineSecurity    7043 non-null   object \n",
      " 10  OnlineBackup      7043 non-null   object \n",
      " 11  DeviceProtection  7043 non-null   object \n",
      " 12  TechSupport       7043 non-null   object \n",
      " 13  StreamingTV       7043 non-null   object \n",
      " 14  StreamingMovies   7043 non-null   object \n",
      " 15  Contract          7043 non-null   object \n",
      " 16  PaperlessBilling  7043 non-null   object \n",
      " 17  PaymentMethod     7043 non-null   object \n",
      " 18  MonthlyCharges    7043 non-null   float64\n",
      " 19  TotalCharges      7032 non-null   float64\n",
      " 20  Churn             7043 non-null   object \n",
      " 21  CustomerReview    7043 non-null   object \n",
      "dtypes: float64(2), int64(2), object(18)\n",
      "memory usage: 1.2+ MB\n"
     ]
    }
   ],
   "source": [
    "df.info()"
   ]
  },
  {
   "cell_type": "code",
   "execution_count": 42,
   "id": "d054487e",
   "metadata": {},
   "outputs": [
    {
     "data": {
      "text/plain": [
       "customerID           0\n",
       "gender               0\n",
       "SeniorCitizen        0\n",
       "Partner              0\n",
       "Dependents           0\n",
       "tenure               0\n",
       "PhoneService         0\n",
       "MultipleLines        0\n",
       "InternetService      0\n",
       "OnlineSecurity       0\n",
       "OnlineBackup         0\n",
       "DeviceProtection     0\n",
       "TechSupport          0\n",
       "StreamingTV          0\n",
       "StreamingMovies      0\n",
       "Contract             0\n",
       "PaperlessBilling     0\n",
       "PaymentMethod        0\n",
       "MonthlyCharges       0\n",
       "TotalCharges        11\n",
       "Churn                0\n",
       "CustomerReview       0\n",
       "dtype: int64"
      ]
     },
     "execution_count": 42,
     "metadata": {},
     "output_type": "execute_result"
    }
   ],
   "source": [
    "df.isnull().sum()"
   ]
  },
  {
   "cell_type": "code",
   "execution_count": 43,
   "id": "a419a3cd",
   "metadata": {},
   "outputs": [
    {
     "name": "stdout",
     "output_type": "stream",
     "text": [
      "11\n"
     ]
    }
   ],
   "source": [
    "# Check for missing values\n",
    "null_count_TotalCharges__original = df[\"TotalCharges\"].isnull().sum()\n",
    "print(null_count_TotalCharges__original)"
   ]
  },
  {
   "cell_type": "code",
   "execution_count": 44,
   "id": "f4cb1711",
   "metadata": {},
   "outputs": [
    {
     "name": "stdout",
     "output_type": "stream",
     "text": [
      "TotalCharges Null Values - Original Data:  11\n",
      "TotalCharges Null Values - Cleaned Data:  0\n"
     ]
    }
   ],
   "source": [
    "if null_count_TotalCharges__original > 0:\n",
    "    df[\"TotalCharges\"] = df[\"TotalCharges\"].fillna(df[\"TotalCharges\"].mean()) # inplace=True)\n",
    "\n",
    "print(f\"TotalCharges Null Values - Original Data: \", null_count_TotalCharges__original)   # Check for missing values\n",
    "print(f\"TotalCharges Null Values - Cleaned Data: \", df[\"TotalCharges\"].isnull().sum())    # Check for missing values again"
   ]
  },
  {
   "cell_type": "markdown",
   "id": "0ae69153",
   "metadata": {},
   "source": [
    "---\n",
    "#### **Initial Statistics and Distributions**"
   ]
  },
  {
   "cell_type": "code",
   "execution_count": 45,
   "id": "505b34c7",
   "metadata": {},
   "outputs": [
    {
     "data": {
      "text/html": [
       "<div>\n",
       "<style scoped>\n",
       "    .dataframe tbody tr th:only-of-type {\n",
       "        vertical-align: middle;\n",
       "    }\n",
       "\n",
       "    .dataframe tbody tr th {\n",
       "        vertical-align: top;\n",
       "    }\n",
       "\n",
       "    .dataframe thead th {\n",
       "        text-align: right;\n",
       "    }\n",
       "</style>\n",
       "<table border=\"1\" class=\"dataframe\">\n",
       "  <thead>\n",
       "    <tr style=\"text-align: right;\">\n",
       "      <th></th>\n",
       "      <th>SeniorCitizen</th>\n",
       "      <th>tenure</th>\n",
       "      <th>MonthlyCharges</th>\n",
       "      <th>TotalCharges</th>\n",
       "    </tr>\n",
       "  </thead>\n",
       "  <tbody>\n",
       "    <tr>\n",
       "      <th>count</th>\n",
       "      <td>7043.000000</td>\n",
       "      <td>7043.000000</td>\n",
       "      <td>7043.000000</td>\n",
       "      <td>7043.000000</td>\n",
       "    </tr>\n",
       "    <tr>\n",
       "      <th>mean</th>\n",
       "      <td>0.162147</td>\n",
       "      <td>32.371149</td>\n",
       "      <td>64.761692</td>\n",
       "      <td>2283.300441</td>\n",
       "    </tr>\n",
       "    <tr>\n",
       "      <th>std</th>\n",
       "      <td>0.368612</td>\n",
       "      <td>24.559481</td>\n",
       "      <td>30.090047</td>\n",
       "      <td>2265.000258</td>\n",
       "    </tr>\n",
       "    <tr>\n",
       "      <th>min</th>\n",
       "      <td>0.000000</td>\n",
       "      <td>0.000000</td>\n",
       "      <td>18.250000</td>\n",
       "      <td>18.800000</td>\n",
       "    </tr>\n",
       "    <tr>\n",
       "      <th>25%</th>\n",
       "      <td>0.000000</td>\n",
       "      <td>9.000000</td>\n",
       "      <td>35.500000</td>\n",
       "      <td>402.225000</td>\n",
       "    </tr>\n",
       "    <tr>\n",
       "      <th>50%</th>\n",
       "      <td>0.000000</td>\n",
       "      <td>29.000000</td>\n",
       "      <td>70.350000</td>\n",
       "      <td>1400.550000</td>\n",
       "    </tr>\n",
       "    <tr>\n",
       "      <th>75%</th>\n",
       "      <td>0.000000</td>\n",
       "      <td>55.000000</td>\n",
       "      <td>89.850000</td>\n",
       "      <td>3786.600000</td>\n",
       "    </tr>\n",
       "    <tr>\n",
       "      <th>max</th>\n",
       "      <td>1.000000</td>\n",
       "      <td>72.000000</td>\n",
       "      <td>118.750000</td>\n",
       "      <td>8684.800000</td>\n",
       "    </tr>\n",
       "  </tbody>\n",
       "</table>\n",
       "</div>"
      ],
      "text/plain": [
       "       SeniorCitizen       tenure  MonthlyCharges  TotalCharges\n",
       "count    7043.000000  7043.000000     7043.000000   7043.000000\n",
       "mean        0.162147    32.371149       64.761692   2283.300441\n",
       "std         0.368612    24.559481       30.090047   2265.000258\n",
       "min         0.000000     0.000000       18.250000     18.800000\n",
       "25%         0.000000     9.000000       35.500000    402.225000\n",
       "50%         0.000000    29.000000       70.350000   1400.550000\n",
       "75%         0.000000    55.000000       89.850000   3786.600000\n",
       "max         1.000000    72.000000      118.750000   8684.800000"
      ]
     },
     "execution_count": 45,
     "metadata": {},
     "output_type": "execute_result"
    }
   ],
   "source": [
    "df.describe()"
   ]
  },
  {
   "cell_type": "code",
   "execution_count": 46,
   "id": "70032679",
   "metadata": {},
   "outputs": [
    {
     "data": {
      "text/plain": [
       "Churn\n",
       "No     5174\n",
       "Yes    1869\n",
       "Name: count, dtype: int64"
      ]
     },
     "execution_count": 46,
     "metadata": {},
     "output_type": "execute_result"
    }
   ],
   "source": [
    "# Check the distribution of Churn counts\n",
    "df[\"Churn\"].value_counts()"
   ]
  },
  {
   "cell_type": "code",
   "execution_count": 47,
   "id": "1e7ccd48",
   "metadata": {},
   "outputs": [
    {
     "data": {
      "text/plain": [
       "Churn\n",
       "No     0.73463\n",
       "Yes    0.26537\n",
       "Name: proportion, dtype: float64"
      ]
     },
     "execution_count": 47,
     "metadata": {},
     "output_type": "execute_result"
    }
   ],
   "source": [
    "# Check the distribution of Churn counts as a percentage\n",
    "df['Churn'].value_counts(normalize=True)"
   ]
  },
  {
   "cell_type": "markdown",
   "id": "00c661a4",
   "metadata": {},
   "source": [
    "---\n",
    "#### **Quick Data Viz**"
   ]
  },
  {
   "cell_type": "code",
   "execution_count": 48,
   "id": "be4de55f",
   "metadata": {},
   "outputs": [
    {
     "data": {
      "image/png": "[encoded data removed]",
      "text/plain": [
       "<Figure size 500x500 with 1 Axes>"
      ]
     },
     "metadata": {},
     "output_type": "display_data"
    }
   ],
   "source": [
    "df['Churn'].value_counts().sort_index().plot(kind='bar', title='Count of Churn', figsize=(5,5), color=['blue', 'orange']);"
   ]
  },
  {
   "cell_type": "code",
   "execution_count": 49,
   "id": "d0890095",
   "metadata": {},
   "outputs": [
    {
     "data": {
      "image/png": "[encoded data removed]",
      "text/plain": [
       "<Figure size 640x480 with 1 Axes>"
      ]
     },
     "metadata": {},
     "output_type": "display_data"
    }
   ],
   "source": [
    "#### Plot churn distribution:\n",
    "# Churn rate by Contract type\n",
    "sns.histplot(data=df, x='Contract', hue='Churn', multiple=\"dodge\", shrink=.75)\n",
    "plt.title(\"Churn by Contract Type\")\n",
    "plt.xticks(rotation=15)\n",
    "plt.show()"
   ]
  },
  {
   "cell_type": "code",
   "execution_count": 50,
   "id": "74bfd509",
   "metadata": {},
   "outputs": [
    {
     "data": {
      "image/png": "[encoded data removed]",
      "text/plain": [
       "<Figure size 640x480 with 1 Axes>"
      ]
     },
     "metadata": {},
     "output_type": "display_data"
    }
   ],
   "source": [
    "# Histogram of Monthly Charges\n",
    "sns.histplot(data=df, x=\"MonthlyCharges\", bins=20)\n",
    "plt.title(\"Distribution of Monthly Charges\")\n",
    "plt.xlabel(\"Monthly Charges\")\n",
    "plt.ylabel(\"Count\")\n",
    "plt.show()"
   ]
  },
  {
   "cell_type": "code",
   "execution_count": 51,
   "id": "ca05dd24",
   "metadata": {},
   "outputs": [
    {
     "name": "stdout",
     "output_type": "stream",
     "text": [
      "Overall Churn Rate: 26.54%\n"
     ]
    }
   ],
   "source": [
    "overall_churn_rate = df[\"Churn\"].value_counts(normalize=True).get(\"Yes\", 0) * 100\n",
    "print(f\"Overall Churn Rate: {overall_churn_rate:.2f}%\")"
   ]
  },
  {
   "cell_type": "code",
   "execution_count": 52,
   "id": "c87656e3",
   "metadata": {},
   "outputs": [
    {
     "name": "stdout",
     "output_type": "stream",
     "text": [
      "Contract\n",
      "Month-to-month    42.709677\n",
      "One year          11.269518\n",
      "Two year           2.831858\n",
      "Name: Yes, dtype: float64\n"
     ]
    }
   ],
   "source": [
    "churn_by_contract = df.groupby(\"Contract\")[\"Churn\"].value_counts(normalize=True).unstack()[\"Yes\"] * 100\n",
    "print(churn_by_contract)\n",
    "#churn_by_contract.plot(kind='bar', color=['blue', 'orange'])"
   ]
  },
  {
   "cell_type": "markdown",
   "id": "1e6cc609",
   "metadata": {},
   "source": [
    "## 📌 Observations\n",
    "- Churn rate is approximately 26.54%.\n",
    "- Churn by Contract Type:    \n",
    "\n",
    "| Contract | Churn % by Contract |\n",
    "|-----------------|--------------|\n",
    "| Month-to-month  | 42.709677    |\n",
    "| One year        | 11.269518    |\n",
    "| Two year        | 2.831858     |\n",
    "- Month-to-month customers churn more frequently.\n",
    "- Cleaned `TotalCharges` column for missing data.\n",
    "- Dataset contains many categorical features that will need encoding."
   ]
  },
  {
   "cell_type": "markdown",
   "id": "50cccd62",
   "metadata": {},
   "source": [
    "---\n",
    "##### Analyze Outliers"
   ]
  },
  {
   "cell_type": "code",
   "execution_count": 53,
   "id": "e144b1f0",
   "metadata": {},
   "outputs": [],
   "source": [
    "def analyze_outliers_iqr(df, columns=None):\n",
    "    \"\"\"\n",
    "    Analyzes outliers in specified numerical columns of a DataFrame using the IQR method.\n",
    "    Args:\n",
    "        df (pd.DataFrame): The input DataFrame.\n",
    "        columns: A list of column names to analyze. If None, all numerical columns will be analyzed.\n",
    "    Returns:\n",
    "        pd.DataFrame: A DataFrame summarizing outlier information for each analyzed column.\n",
    "    \"\"\"\n",
    "    if columns is None:\n",
    "        # If no columns specified, select only numerical columns from the DataFrame\n",
    "        columns_to_process = df.select_dtypes(include=np.number).columns.tolist()\n",
    "    else:\n",
    "        # Filter the provided columns to include only those that are numerical and exist in the df\n",
    "        columns_to_process = [col for col in columns if col in df.columns and pd.api.types.is_numeric_dtype(df[col])]\n",
    "        \n",
    "        # Notify about non-numerical columns if any were specified and skipped\n",
    "        skipped_columns = [col for col in columns if col not in columns_to_process and col in df.columns]\n",
    "        if skipped_columns:\n",
    "            print(f\"Warning: The following non-numerical columns were specified but skipped: {skipped_columns}\")\n",
    "            \n",
    "        # Notify about columns not found if any were specified\n",
    "        not_found_columns = [col for col in columns if col not in df.columns]\n",
    "        if not_found_columns:\n",
    "             print(f\"Error: The following specified columns were not found in the DataFrame: {not_found_columns}\")\n",
    "\n",
    "\n",
    "    results = []\n",
    "    \n",
    "    if not columns_to_process:\n",
    "        print(\"No numerical columns found or specified to analyze.\")\n",
    "        return pd.DataFrame(results) # Return an empty DataFrame\n",
    "\n",
    "    for column_name in columns_to_process:\n",
    "        series = df[column_name]\n",
    "        \n",
    "        # Ensure the series is not all NaN, which would cause quantile to fail\n",
    "        if series.isnull().all():\n",
    "            print(f\"Warning: Column '{column_name}' contains all NaN values. Skipping.\")\n",
    "            results.append({\n",
    "                'Column': column_name, 'Q1': np.nan, 'Q3': np.nan, 'IQR': np.nan,\n",
    "                'Lower Bound': np.nan, 'Upper Bound': np.nan, 'Lower Outliers': 0,\n",
    "                'Upper Outliers': 0, 'Total Outliers': 0, 'Outlier %': 0\n",
    "            })\n",
    "            continue\n",
    "\n",
    "        Q1 = series.quantile(0.25)\n",
    "        Q3 = series.quantile(0.75)\n",
    "        IQR = Q3 - Q1\n",
    "        \n",
    "        lower_bound = Q1 - 1.5 * IQR\n",
    "        upper_bound = Q3 + 1.5 * IQR\n",
    "        \n",
    "        lower_outliers = series[series < lower_bound]\n",
    "        upper_outliers = series[series > upper_bound]\n",
    "        \n",
    "        lower_count = len(lower_outliers)\n",
    "        upper_count = len(upper_outliers)\n",
    "        total_count = lower_count + upper_count\n",
    "        \n",
    "        results.append({\n",
    "            'Column': column_name,\n",
    "            'Q1': Q1,\n",
    "            'Q3': Q3,\n",
    "            'IQR': IQR,\n",
    "            'Lower Bound': lower_bound,\n",
    "            'Upper Bound': upper_bound,\n",
    "            'Lower Outliers': lower_count,\n",
    "            'Upper Outliers': upper_count,\n",
    "            'Total Outliers': total_count,\n",
    "            'Outlier %': (total_count / len(series)) * 100 if len(series) > 0 else 0\n",
    "        })\n",
    "    \n",
    "    if not results: # Should not happen if columns_to_process had items, but as a safeguard\n",
    "        return pd.DataFrame()\n",
    "        \n",
    "    return pd.DataFrame(results).set_index('Column')"
   ]
  },
  {
   "cell_type": "code",
   "execution_count": 54,
   "id": "bab91758",
   "metadata": {},
   "outputs": [
    {
     "name": "stdout",
     "output_type": "stream",
     "text": [
      "                     Q1       Q3       IQR  Lower Bound  Upper Bound  \\\n",
      "Column                                                                 \n",
      "SeniorCitizen     0.000     0.00     0.000       0.0000       0.0000   \n",
      "tenure            9.000    55.00    46.000     -60.0000     124.0000   \n",
      "MonthlyCharges   35.500    89.85    54.350     -46.0250     171.3750   \n",
      "TotalCharges    402.225  3786.60  3384.375   -4674.3375    8863.1625   \n",
      "\n",
      "                Lower Outliers  Upper Outliers  Total Outliers  Outlier %  \n",
      "Column                                                                     \n",
      "SeniorCitizen                0            1142            1142  16.214681  \n",
      "tenure                       0               0               0   0.000000  \n",
      "MonthlyCharges               0               0               0   0.000000  \n",
      "TotalCharges                 0               0               0   0.000000  \n"
     ]
    }
   ],
   "source": [
    "outlier_summary = analyze_outliers_iqr(df)\n",
    "print(outlier_summary)"
   ]
  },
  {
   "cell_type": "markdown",
   "id": "77e85fbd",
   "metadata": {},
   "source": [
    "No outliers. SeniorCitizen is a binary categorical variable, so it's treated numerically. It's"
   ]
  }
 ],
 "metadata": {
  "kernelspec": {
   "display_name": "churn-ai-en2",
   "language": "python",
   "name": "python3"
  },
  "language_info": {
   "codemirror_mode": {
    "name": "ipython",
    "version": 3
   },
   "file_extension": ".py",
   "mimetype": "text/x-python",
   "name": "python",
   "nbconvert_exporter": "python",
   "pygments_lexer": "ipython3",
   "version": "3.10.17"
  }
 },
 "nbformat": 4,
 "nbformat_minor": 5
}
