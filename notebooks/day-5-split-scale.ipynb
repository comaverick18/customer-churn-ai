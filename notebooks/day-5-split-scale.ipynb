{
 "cells": [
  {
   "cell_type": "markdown",
   "id": "d21f2d9e",
   "metadata": {},
   "source": [
    "---\n",
    "Split Data into Training and Testing Sets"
   ]
  },
  {
   "cell_type": "code",
   "execution_count": 5,
   "id": "680b645e",
   "metadata": {},
   "outputs": [
    {
     "name": "stdout",
     "output_type": "stream",
     "text": [
      "Featrure-engineered DataFram 'df_model_ready' loaded successfully.\n",
      "Sensational!\n",
      "\n",
      "Shape of the loaded DataFrame: (7043, 33)\n",
      "\n",
      "<class 'pandas.core.frame.DataFrame'>\n",
      "RangeIndex: 7043 entries, 0 to 7042\n",
      "Data columns (total 33 columns):\n",
      " #   Column                                 Non-Null Count  Dtype  \n",
      "---  ------                                 --------------  -----  \n",
      " 0   SeniorCitizen                          7043 non-null   int64  \n",
      " 1   MonthlyCharges                         7043 non-null   float64\n",
      " 2   TotalCharges                           7043 non-null   float64\n",
      " 3   Churn                                  7043 non-null   int64  \n",
      " 4   HF_neg                                 7043 non-null   float32\n",
      " 5   HF_nue                                 7043 non-null   float32\n",
      " 6   HF_pos                                 7043 non-null   float32\n",
      " 7   gender_Male                            7043 non-null   bool   \n",
      " 8   Partner_Yes                            7043 non-null   bool   \n",
      " 9   Dependents_Yes                         7043 non-null   bool   \n",
      " 10  PhoneService_Yes                       7043 non-null   bool   \n",
      " 11  MultipleLines_Yes                      7043 non-null   bool   \n",
      " 12  InternetService_Fiber optic            7043 non-null   bool   \n",
      " 13  InternetService_No                     7043 non-null   bool   \n",
      " 14  OnlineSecurity_Yes                     7043 non-null   bool   \n",
      " 15  OnlineBackup_Yes                       7043 non-null   bool   \n",
      " 16  DeviceProtection_Yes                   7043 non-null   bool   \n",
      " 17  TechSupport_Yes                        7043 non-null   bool   \n",
      " 18  StreamingTV_Yes                        7043 non-null   bool   \n",
      " 19  StreamingMovies_Yes                    7043 non-null   bool   \n",
      " 20  Contract_One year                      7043 non-null   bool   \n",
      " 21  Contract_Two year                      7043 non-null   bool   \n",
      " 22  PaperlessBilling_Yes                   7043 non-null   bool   \n",
      " 23  PaymentMethod_Credit card (automatic)  7043 non-null   bool   \n",
      " 24  PaymentMethod_Electronic check         7043 non-null   bool   \n",
      " 25  PaymentMethod_Mailed check             7043 non-null   bool   \n",
      " 26  HF_Label_Neutral                       7043 non-null   bool   \n",
      " 27  HF_Label_Positive                      7043 non-null   bool   \n",
      " 28  TenureGrp_13-24 Months                 7043 non-null   bool   \n",
      " 29  TenureGrp_25-36 Months                 7043 non-null   bool   \n",
      " 30  TenureGrp_37-48 Months                 7043 non-null   bool   \n",
      " 31  TenureGrp_49-60 Months                 7043 non-null   bool   \n",
      " 32  TenureGrp_61-72 Months                 7043 non-null   bool   \n",
      "dtypes: bool(26), float32(3), float64(2), int64(2)\n",
      "memory usage: 481.6 KB\n"
     ]
    }
   ],
   "source": [
    "import pandas as pd\n",
    "import numpy as np\n",
    "\n",
    "parquet_fe_file_path = r\"C:\\Users\\comat\\GitProjects\\customer-churn-ai\\data\\telco_churn_feature_engineered.parquet\"\n",
    "try:\n",
    "    df_model_ready = pd.read_parquet(parquet_fe_file_path)\n",
    "    print(\"Featrure-engineered DataFram 'df_model_ready' loaded successfully.\\nSensational!\\n\")\n",
    "    print(f\"Shape of the loaded DataFrame: {df_model_ready.shape}\\n\")\n",
    "    df_model_ready.info()\n",
    "except FileNotFoundError:\n",
    "    print(f\"Error: File not found at {parquet_fe_file_path}.\\nPlease ensure it was saved correctly, check the path, and try again.\")\n",
    "except Exception as e:\n",
    "    print(f\"An unexpected error occurred: {e}\\n\")"
   ]
  },
  {
   "cell_type": "code",
   "execution_count": null,
   "id": "b41f1087",
   "metadata": {},
   "outputs": [
    {
     "name": "stdout",
     "output_type": "stream",
     "text": [
      "Features (X) and target (y) have been separated.\n",
      "Shape of X: (7043, 32)\n",
      "Shape of y: (7043,)\n",
      "\n",
      "Data successfully split into training and testing sets.\n",
      "Shape of X_train: (5634, 32)\n",
      "Shape of X_test: (1409, 32)\n",
      "Shape of y_train: (5634,)\n",
      "Shape of y_test: (1409,)\n",
      "\n",
      "Churn proportion in y_train:\n",
      "Churn\n",
      "0    0.735\n",
      "1    0.265\n",
      "Name: proportion, dtype: float64\n",
      "\n",
      "Churn proportion in y_test:\n",
      "Churn\n",
      "0    0.735\n",
      "1    0.265\n",
      "Name: proportion, dtype: float64\n"
     ]
    }
   ],
   "source": [
    "from sklearn.model_selection import train_test_split\n",
    "# Split the data into training and testing sets\n",
    "\n",
    "# 1. Separate features (X) and target (y)\n",
    "if 'Churn' in df_model_ready.columns:\n",
    "    X = df_model_ready.drop('Churn', axis=1)    # df containing all columns except 'Churn'\n",
    "                                                # all columns are features except 'Churn'\n",
    "    y = df_model_ready['Churn']                 # series containing target 'Churn'\n",
    "\n",
    "    print(\"Features (X) and target (y) have been separated.\")\n",
    "    print(f\"Shape of X: {X.shape}\")\n",
    "    print(f\"Shape of y: {y.shape}\")\n",
    "\n",
    "    # 2. Split the data into training and testing sets\n",
    "    # Used 80/20 split and stratify by y to maintain class proportions\n",
    "    X_train, X_test, y_train, y_test = train_test_split(\n",
    "        X, y,\n",
    "        test_size=0.2,    # 20% of data will be for testing\n",
    "        random_state=42,  # Ensures reproducibility of the split\n",
    "        stratify=y        # Recommended for classification. Keeps class proportion samples similar in train/test\n",
    "    )\n",
    "\n",
    "    print(\"\\nData successfully split into training and testing sets.\")\n",
    "    print(f\"Shape of X_train: {X_train.shape}\")\n",
    "    print(f\"Shape of X_test: {X_test.shape}\")\n",
    "    print(f\"Shape of y_train: {y_train.shape}\")\n",
    "    print(f\"Shape of y_test: {y_test.shape}\")\n",
    "\n",
    "    # Check the Churn Proportions in y_train and y_test\n",
    "    print(\"\\nChurn proportion in y_train:\")\n",
    "    print(y_train.value_counts(normalize=True).round(3))\n",
    "    print(\"\\nChurn proportion in y_test:\")\n",
    "    print(y_test.value_counts(normalize=True).round(3))\n",
    "\n",
    "else:\n",
    "    print(\"Error: 'Churn' column not found in df_model_ready. Cannot proceed with splitting.\")\n"
   ]
  },
  {
   "cell_type": "code",
   "execution_count": null,
   "id": "de3f9743",
   "metadata": {},
   "outputs": [],
   "source": []
  },
  {
   "cell_type": "code",
   "execution_count": null,
   "id": "3b55bf28",
   "metadata": {},
   "outputs": [],
   "source": []
  }
 ],
 "metadata": {
  "kernelspec": {
   "display_name": "churn-ai-en2",
   "language": "python",
   "name": "python3"
  },
  "language_info": {
   "codemirror_mode": {
    "name": "ipython",
    "version": 3
   },
   "file_extension": ".py",
   "mimetype": "text/x-python",
   "name": "python",
   "nbconvert_exporter": "python",
   "pygments_lexer": "ipython3",
   "version": "3.10.17"
  }
 },
 "nbformat": 4,
 "nbformat_minor": 5
}
