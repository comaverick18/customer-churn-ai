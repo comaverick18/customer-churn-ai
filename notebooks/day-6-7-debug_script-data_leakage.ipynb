{
 "cells": [
  {
   "cell_type": "markdown",
   "id": "aafb16f5",
   "metadata": {},
   "source": [
    "#### Perfect Prediction Investigating\n",
    "* most likely data leakage"
   ]
  },
  {
   "cell_type": "markdown",
   "id": "fc727c01",
   "metadata": {},
   "source": [
    "**Observations**:\n",
    "* Showing perfect scores across the board, which is not realistic. Human behavior is unpredicatable, so perfect prediction is not likely. I was aiming for above 0.7.\n",
    "* **Data Leakage** - most likely cause. Some informatin abot the target variable `Churn  has inadvertently \"leaked\" into my feature set (X_train and X_test). I don't think the model is learning to predict, I think it has the answers.\n",
    "* **Investigating Leakage**:\n",
    "    * Is there a feature in df_model_ready that is providing the Churn answer?\n",
    "        * ***MOST DIRECT CHECK*** is to look at the correlation between features and the Churn target variable.\n",
    "        * If any feature has a correlation of +1 or -1 (or extremely close to it) with Churn, that's a very strong sign of leakage or that the feature is a direct proxy for the target.  \n",
    "\n",
    "* See notebook day-6-7-data_leakage.ipynb\n"
   ]
  },
  {
   "cell_type": "code",
   "execution_count": null,
   "id": "f750e002",
   "metadata": {},
   "outputs": [
    {
     "name": "stdout",
     "output_type": "stream",
     "text": [
      "Calculating correlations with the 'Churn' column...\n",
      "\n",
      "Top correlations with Churn:\n",
      "Churn                             1.000000\n",
      "HF_neg                            0.988827\n",
      "HF_nue                            0.599272\n",
      "InternetService_Fiber optic       0.308020\n",
      "PaymentMethod_Electronic check    0.301919\n",
      "MonthlyCharges                    0.193356\n",
      "PaperlessBilling_Yes              0.191825\n",
      "SeniorCitizen                     0.150889\n",
      "HF_Label_Neutral                  0.137827\n",
      "StreamingTV_Yes                   0.063228\n",
      "Name: Churn, dtype: float64\n",
      "\n",
      "Bottom correlations with Churn (most negative):\n",
      "Dependents_Yes           -0.164221\n",
      "TechSupport_Yes          -0.164674\n",
      "OnlineSecurity_Yes       -0.171226\n",
      "Contract_One year        -0.177820\n",
      "TotalCharges             -0.199428\n",
      "TenureGrp_61-72 Months   -0.225500\n",
      "InternetService_No       -0.227890\n",
      "Contract_Two year        -0.302253\n",
      "HF_pos                   -0.996824\n",
      "HF_Label_Positive        -0.998908\n",
      "Name: Churn, dtype: float64\n"
     ]
    }
   ],
   "source": [
    "import pandas as pd\n",
    "import numpy as np\n",
    "\n",
    "# Load the feature-engineered DataFrame\n",
    "df_for_modeling_corr_check = pd.read_parquet(r\"C:\\Users\\comat\\GitProjects\\customer-churn-ai\\data\\telco_churn_feature_engineered.parquet\")\n",
    "# Make sure this DataFrame has the 'Churn' column and all your engineered features.\n",
    "\n",
    "print(\"Calculating correlations with the 'Churn' column...\")\n",
    "# Ensure 'Churn' is numeric (it should be 0 or 1 from our previous steps)\n",
    "if 'Churn' in df_for_modeling_corr_check.columns and pd.api.types.is_numeric_dtype(df_for_modeling_corr_check['Churn']):\n",
    "    correlation_with_churn = df_for_modeling_corr_check.corr()['Churn'].sort_values(ascending=False)\n",
    "    print(\"\\nTop correlations with Churn:\")\n",
    "    print(correlation_with_churn.head(10)) # Show top positive correlations\n",
    "    print(\"\\nBottom correlations with Churn (most negative):\")\n",
    "    print(correlation_with_churn.tail(10)) # Show top negative correlations\n",
    "else:\n",
    "    print(\"Could not calculate correlations. Ensure 'df_model_ready' is loaded and 'Churn' is a numeric column.\")"
   ]
  },
  {
   "cell_type": "markdown",
   "id": "2c8960c5",
   "metadata": {},
   "source": [
    "---\n",
    "**Investigation Assessment:**  \n",
    "  \n",
    "  \n",
    "Clearly the following features are too close to 1 or -1:  \n",
    "HF_neg:             0.988827  \n",
    "HF_pos:            -0.996824  \n",
    "HF_Label_Positive: -0.998908  \n",
    "\n",
    "* This means the Hugging Face sentiment analysis was almost perfect.\n",
    "* In reality, this is because I created the Customer Reviews to be dependent on Churn or No Churn, unknowingly, baking in data leakage.\n",
    "* In real life, if this occurs, it's a sign that the CustomerReview column likely contains text that was written at the point of churn, after churn has happened, or expresses a very clear and immediate intent to churn.  \n",
    "\n",
    "- If the features used for training know the outcome because the Customer Review Text states it, the model isn't learning.\n",
    "- In order to build a model that can predict which customers are likely to churn in the future, based on signals before they've firmly decided or explicitly stated they are leaving, I have to correct the leakage\n",
    "\n",
    "---\n",
    "***Plan***:\n",
    "1. Return to df_model_ready at the beginning of day-5-split-scale.ipynb, before it's used to split into X and y. It has all the engineered features from day-5-feature-engineering.\n",
    "2. Remove HF_neg, HF_nue, HF_pos, and all one-hot encoded columns derived from HF_Label\n",
    "3. Re-split the Data\n",
    "4. Re-scale Features\n",
    "5. Retrain and Re-evaluate\n"
   ]
  }
 ],
 "metadata": {
  "kernelspec": {
   "display_name": "churn-ai-en2",
   "language": "python",
   "name": "python3"
  },
  "language_info": {
   "codemirror_mode": {
    "name": "ipython",
    "version": 3
   },
   "file_extension": ".py",
   "mimetype": "text/x-python",
   "name": "python",
   "nbconvert_exporter": "python",
   "pygments_lexer": "ipython3",
   "version": "3.10.17"
  }
 },
 "nbformat": 4,
 "nbformat_minor": 5
}
